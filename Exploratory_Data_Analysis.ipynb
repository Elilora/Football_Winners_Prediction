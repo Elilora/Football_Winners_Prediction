{
  "cells": [
    {
      "cell_type": "markdown",
      "metadata": {
        "id": "12354f07"
      },
      "source": [
        "## Import relevant libraries"
      ],
      "id": "12354f07"
    },
    {
      "cell_type": "code",
      "execution_count": 1,
      "metadata": {
        "colab": {
          "base_uri": "https://localhost:8080/"
        },
        "id": "bMJfNYrp5qZE",
        "outputId": "e37498af-89a6-4cb1-d6ff-cbd596219306"
      },
      "outputs": [
        {
          "output_type": "stream",
          "name": "stdout",
          "text": [
            "Looking in indexes: https://pypi.org/simple, https://us-python.pkg.dev/colab-wheels/public/simple/\n",
            "Collecting https://github.com/pandas-profiling/pandas-profiling/archive/master.zip\n",
            "  Downloading https://github.com/pandas-profiling/pandas-profiling/archive/master.zip (21.9 MB)\n",
            "\u001b[K     |████████████████████████████████| 21.9 MB 1.5 MB/s \n",
            "\u001b[?25hRequirement already satisfied: joblib~=1.1.0 in /usr/local/lib/python3.7/dist-packages (from pandas-profiling==3.2.0) (1.1.0)\n",
            "Requirement already satisfied: scipy>=1.4.1 in /usr/local/lib/python3.7/dist-packages (from pandas-profiling==3.2.0) (1.7.3)\n",
            "Requirement already satisfied: pandas!=1.0.0,!=1.0.1,!=1.0.2,!=1.1.0,>=0.25.3 in /usr/local/lib/python3.7/dist-packages (from pandas-profiling==3.2.0) (1.3.5)\n",
            "Requirement already satisfied: matplotlib>=3.2.0 in /usr/local/lib/python3.7/dist-packages (from pandas-profiling==3.2.0) (3.2.2)\n",
            "Requirement already satisfied: pydantic>=1.8.1 in /usr/local/lib/python3.7/dist-packages (from pandas-profiling==3.2.0) (1.9.2)\n",
            "Requirement already satisfied: PyYAML>=5.0.0 in /usr/local/lib/python3.7/dist-packages (from pandas-profiling==3.2.0) (6.0)\n",
            "Requirement already satisfied: jinja2>=2.11.1 in /usr/local/lib/python3.7/dist-packages (from pandas-profiling==3.2.0) (2.11.3)\n",
            "Collecting visions[type_image_path]==0.7.5\n",
            "  Downloading visions-0.7.5-py3-none-any.whl (102 kB)\n",
            "\u001b[K     |████████████████████████████████| 102 kB 27.6 MB/s \n",
            "\u001b[?25hRequirement already satisfied: numpy>=1.16.0 in /usr/local/lib/python3.7/dist-packages (from pandas-profiling==3.2.0) (1.21.6)\n",
            "Collecting htmlmin>=0.1.12\n",
            "  Downloading htmlmin-0.1.12.tar.gz (19 kB)\n",
            "Requirement already satisfied: missingno>=0.4.2 in /usr/local/lib/python3.7/dist-packages (from pandas-profiling==3.2.0) (0.5.1)\n",
            "Collecting phik>=0.11.1\n",
            "  Downloading phik-0.12.2-cp37-cp37m-manylinux_2_17_x86_64.manylinux2014_x86_64.whl (690 kB)\n",
            "\u001b[K     |████████████████████████████████| 690 kB 66.6 MB/s \n",
            "\u001b[?25hCollecting tangled-up-in-unicode==0.2.0\n",
            "  Downloading tangled_up_in_unicode-0.2.0-py3-none-any.whl (4.7 MB)\n",
            "\u001b[K     |████████████████████████████████| 4.7 MB 66.7 MB/s \n",
            "\u001b[?25hCollecting requests>=2.24.0\n",
            "  Downloading requests-2.28.1-py3-none-any.whl (62 kB)\n",
            "\u001b[K     |████████████████████████████████| 62 kB 1.8 MB/s \n",
            "\u001b[?25hRequirement already satisfied: tqdm>=4.48.2 in /usr/local/lib/python3.7/dist-packages (from pandas-profiling==3.2.0) (4.64.0)\n",
            "Requirement already satisfied: seaborn>=0.10.1 in /usr/local/lib/python3.7/dist-packages (from pandas-profiling==3.2.0) (0.11.2)\n",
            "Collecting multimethod>=1.4\n",
            "  Downloading multimethod-1.8-py3-none-any.whl (9.8 kB)\n",
            "Requirement already satisfied: networkx>=2.4 in /usr/local/lib/python3.7/dist-packages (from visions[type_image_path]==0.7.5->pandas-profiling==3.2.0) (2.6.3)\n",
            "Requirement already satisfied: attrs>=19.3.0 in /usr/local/lib/python3.7/dist-packages (from visions[type_image_path]==0.7.5->pandas-profiling==3.2.0) (22.1.0)\n",
            "Requirement already satisfied: Pillow in /usr/local/lib/python3.7/dist-packages (from visions[type_image_path]==0.7.5->pandas-profiling==3.2.0) (7.1.2)\n",
            "Collecting imagehash\n",
            "  Downloading ImageHash-4.2.1.tar.gz (812 kB)\n",
            "\u001b[K     |████████████████████████████████| 812 kB 70.1 MB/s \n",
            "\u001b[?25hRequirement already satisfied: MarkupSafe>=0.23 in /usr/local/lib/python3.7/dist-packages (from jinja2>=2.11.1->pandas-profiling==3.2.0) (2.0.1)\n",
            "Requirement already satisfied: python-dateutil>=2.1 in /usr/local/lib/python3.7/dist-packages (from matplotlib>=3.2.0->pandas-profiling==3.2.0) (2.8.2)\n",
            "Requirement already satisfied: kiwisolver>=1.0.1 in /usr/local/lib/python3.7/dist-packages (from matplotlib>=3.2.0->pandas-profiling==3.2.0) (1.4.4)\n",
            "Requirement already satisfied: cycler>=0.10 in /usr/local/lib/python3.7/dist-packages (from matplotlib>=3.2.0->pandas-profiling==3.2.0) (0.11.0)\n",
            "Requirement already satisfied: pyparsing!=2.0.4,!=2.1.2,!=2.1.6,>=2.0.1 in /usr/local/lib/python3.7/dist-packages (from matplotlib>=3.2.0->pandas-profiling==3.2.0) (3.0.9)\n",
            "Requirement already satisfied: typing-extensions in /usr/local/lib/python3.7/dist-packages (from kiwisolver>=1.0.1->matplotlib>=3.2.0->pandas-profiling==3.2.0) (4.1.1)\n",
            "Requirement already satisfied: pytz>=2017.3 in /usr/local/lib/python3.7/dist-packages (from pandas!=1.0.0,!=1.0.1,!=1.0.2,!=1.1.0,>=0.25.3->pandas-profiling==3.2.0) (2022.2.1)\n",
            "Requirement already satisfied: six>=1.5 in /usr/local/lib/python3.7/dist-packages (from python-dateutil>=2.1->matplotlib>=3.2.0->pandas-profiling==3.2.0) (1.15.0)\n",
            "Requirement already satisfied: idna<4,>=2.5 in /usr/local/lib/python3.7/dist-packages (from requests>=2.24.0->pandas-profiling==3.2.0) (2.10)\n",
            "Requirement already satisfied: charset-normalizer<3,>=2 in /usr/local/lib/python3.7/dist-packages (from requests>=2.24.0->pandas-profiling==3.2.0) (2.1.0)\n",
            "Requirement already satisfied: certifi>=2017.4.17 in /usr/local/lib/python3.7/dist-packages (from requests>=2.24.0->pandas-profiling==3.2.0) (2022.6.15)\n",
            "Requirement already satisfied: urllib3<1.27,>=1.21.1 in /usr/local/lib/python3.7/dist-packages (from requests>=2.24.0->pandas-profiling==3.2.0) (1.24.3)\n",
            "Requirement already satisfied: PyWavelets in /usr/local/lib/python3.7/dist-packages (from imagehash->visions[type_image_path]==0.7.5->pandas-profiling==3.2.0) (1.3.0)\n",
            "Building wheels for collected packages: pandas-profiling, htmlmin, imagehash\n",
            "  Building wheel for pandas-profiling (setup.py) ... \u001b[?25l\u001b[?25hdone\n",
            "  Created wheel for pandas-profiling: filename=pandas_profiling-3.2.0-py2.py3-none-any.whl size=261257 sha256=945c2a909fcac6c9a5ceaf60faf809758ea49de16a4199600319444b9f211135\n",
            "  Stored in directory: /tmp/pip-ephem-wheel-cache-tlnibwb7/wheels/cc/d5/09/083fb07c9363a2f45854b0e3a7de7d7c560f07da74b9e9769d\n",
            "  Building wheel for htmlmin (setup.py) ... \u001b[?25l\u001b[?25hdone\n",
            "  Created wheel for htmlmin: filename=htmlmin-0.1.12-py3-none-any.whl size=27098 sha256=1463c60f54993960d1a0d8c0543b957a2b9df72231c2fc34b75c1c0b920a0a22\n",
            "  Stored in directory: /root/.cache/pip/wheels/70/e1/52/5b14d250ba868768823940c3229e9950d201a26d0bd3ee8655\n",
            "  Building wheel for imagehash (setup.py) ... \u001b[?25l\u001b[?25hdone\n",
            "  Created wheel for imagehash: filename=ImageHash-4.2.1-py2.py3-none-any.whl size=295206 sha256=bc75580ab83bef1e8c6a40d50c20dafb0623dbea6529449c2deadbcfa1b42360\n",
            "  Stored in directory: /root/.cache/pip/wheels/4c/d5/59/5e3e297533ddb09407769762985d134135064c6831e29a914e\n",
            "Successfully built pandas-profiling htmlmin imagehash\n",
            "Installing collected packages: tangled-up-in-unicode, multimethod, visions, imagehash, requests, phik, htmlmin, pandas-profiling\n",
            "  Attempting uninstall: requests\n",
            "    Found existing installation: requests 2.23.0\n",
            "    Uninstalling requests-2.23.0:\n",
            "      Successfully uninstalled requests-2.23.0\n",
            "  Attempting uninstall: pandas-profiling\n",
            "    Found existing installation: pandas-profiling 1.4.1\n",
            "    Uninstalling pandas-profiling-1.4.1:\n",
            "      Successfully uninstalled pandas-profiling-1.4.1\n",
            "Successfully installed htmlmin-0.1.12 imagehash-4.2.1 multimethod-1.8 pandas-profiling-3.2.0 phik-0.12.2 requests-2.28.1 tangled-up-in-unicode-0.2.0 visions-0.7.5\n"
          ]
        }
      ],
      "source": [
        "pip install https://github.com/pandas-profiling/pandas-profiling/archive/master.zip"
      ],
      "id": "bMJfNYrp5qZE"
    },
    {
      "cell_type": "code",
      "execution_count": 10,
      "metadata": {
        "id": "99ccc788"
      },
      "outputs": [],
      "source": [
        "import pandas as pd\n",
        "import numpy as np\n",
        "import matplotlib.pyplot as plt\n",
        "import seaborn as sns\n",
        "%matplotlib inline\n",
        "import warnings\n",
        "warnings.filterwarnings('ignore')\n",
        "pd.set_option('display.max_columns', None)\n",
        "from pandas_profiling import ProfileReport"
      ],
      "id": "99ccc788"
    },
    {
      "cell_type": "code",
      "execution_count": 11,
      "metadata": {
        "id": "75507902"
      },
      "outputs": [],
      "source": [
        "df=pd.read_csv(\"/content/understat.com.csv\")"
      ],
      "id": "75507902"
    },
    {
      "cell_type": "code",
      "execution_count": 12,
      "metadata": {
        "id": "953d212b"
      },
      "outputs": [],
      "source": [
        "df.rename(columns = {\"Unnamed: 0\": \"league\", \"Unnamed: 1\":\"year\", \"ppda_coef\": \"passes_allowed\"}, inplace = True)"
      ],
      "id": "953d212b"
    },
    {
      "cell_type": "markdown",
      "metadata": {
        "id": "41ce2bcd"
      },
      "source": [
        "## Features\n",
        "\n",
        "● __xG__ - expected goals metric, it is a statistical measure of the quality of chances created and conceded.\n",
        "\n",
        "● __xG_diff__ - difference between actual goals scored and expected goals.\n",
        "\n",
        "● __npxG__ - expected goals without penalties and own goals.\n",
        "\n",
        "● __xGA__ - expected goals against.\n",
        "\n",
        "● __xGA_diff__ - difference between actual goals missed and expected goals against.\n",
        "\n",
        "● __npxGA__ - expected goals against without penalties and own goals.\n",
        "\n",
        "● __npxGD__ - difference between \"for\" and \"against\" expected goals without penalties and own goals.\n",
        "\n",
        "● __ppda_coef__ - passes allowed per defensive action in the opposition half (power of pressure)\n",
        "\n",
        "● __oppda_coef__ - opponent passes allowed per defensive action in the opposition half (power of opponent's pressure)\n",
        "\n",
        "● __deep__ - passes completed within an estimated 20 yards of goal (crosses excluded)\n",
        "\n",
        "● __deep_allowed__ - opponent passes completed within an estimated 20 yards of goal (crosses excluded)\n",
        "\n",
        "● __xpts__ - expected points\n",
        "\n",
        "● __xpts_diff__ - difference between actual and expected points"
      ],
      "id": "41ce2bcd"
    },
    {
      "cell_type": "code",
      "execution_count": null,
      "metadata": {
        "colab": {
          "base_uri": "https://localhost:8080/"
        },
        "id": "5d8f6254",
        "outputId": "d02ad40d-b23e-4e8d-98b3-2d4ebd30c2e6",
        "scrolled": false
      },
      "outputs": [
        {
          "name": "stdout",
          "output_type": "stream",
          "text": [
            "<class 'pandas.core.frame.DataFrame'>\n",
            "RangeIndex: 684 entries, 0 to 683\n",
            "Data columns (total 24 columns):\n",
            " #   Column          Non-Null Count  Dtype  \n",
            "---  ------          --------------  -----  \n",
            " 0   league          684 non-null    object \n",
            " 1   year            684 non-null    int64  \n",
            " 2   position        684 non-null    int64  \n",
            " 3   team            684 non-null    object \n",
            " 4   matches         684 non-null    int64  \n",
            " 5   wins            684 non-null    int64  \n",
            " 6   draws           684 non-null    int64  \n",
            " 7   loses           684 non-null    int64  \n",
            " 8   scored          684 non-null    int64  \n",
            " 9   missed          684 non-null    int64  \n",
            " 10  pts             684 non-null    int64  \n",
            " 11  xG              684 non-null    float64\n",
            " 12  xG_diff         684 non-null    float64\n",
            " 13  npxG            684 non-null    float64\n",
            " 14  xGA             684 non-null    float64\n",
            " 15  xGA_diff        684 non-null    float64\n",
            " 16  npxGA           684 non-null    float64\n",
            " 17  npxGD           684 non-null    float64\n",
            " 18  passes_allowed  684 non-null    float64\n",
            " 19  oppda_coef      684 non-null    float64\n",
            " 20  deep            684 non-null    int64  \n",
            " 21  deep_allowed    684 non-null    int64  \n",
            " 22  xpts            684 non-null    float64\n",
            " 23  xpts_diff       684 non-null    float64\n",
            "dtypes: float64(11), int64(11), object(2)\n",
            "memory usage: 128.4+ KB\n"
          ]
        }
      ],
      "source": [
        "df.info()"
      ],
      "id": "5d8f6254"
    },
    {
      "cell_type": "code",
      "execution_count": null,
      "metadata": {
        "id": "a8adf1ef",
        "outputId": "86627c57-c714-4b8d-c9cb-2c37a4f87a6b",
        "scrolled": true
      },
      "outputs": [
        {
          "data": {
            "text/html": [
              "<div>\n",
              "<style scoped>\n",
              "    .dataframe tbody tr th:only-of-type {\n",
              "        vertical-align: middle;\n",
              "    }\n",
              "\n",
              "    .dataframe tbody tr th {\n",
              "        vertical-align: top;\n",
              "    }\n",
              "\n",
              "    .dataframe thead th {\n",
              "        text-align: right;\n",
              "    }\n",
              "</style>\n",
              "<table border=\"1\" class=\"dataframe\">\n",
              "  <thead>\n",
              "    <tr style=\"text-align: right;\">\n",
              "      <th></th>\n",
              "      <th>year</th>\n",
              "      <th>position</th>\n",
              "      <th>matches</th>\n",
              "      <th>wins</th>\n",
              "      <th>draws</th>\n",
              "      <th>loses</th>\n",
              "      <th>scored</th>\n",
              "      <th>missed</th>\n",
              "      <th>pts</th>\n",
              "      <th>xG</th>\n",
              "      <th>xG_diff</th>\n",
              "      <th>npxG</th>\n",
              "      <th>xGA</th>\n",
              "      <th>xGA_diff</th>\n",
              "      <th>npxGA</th>\n",
              "      <th>npxGD</th>\n",
              "      <th>passes_allowed</th>\n",
              "      <th>oppda_coef</th>\n",
              "      <th>deep</th>\n",
              "      <th>deep_allowed</th>\n",
              "      <th>xpts</th>\n",
              "      <th>xpts_diff</th>\n",
              "    </tr>\n",
              "  </thead>\n",
              "  <tbody>\n",
              "    <tr>\n",
              "      <th>count</th>\n",
              "      <td>684.000000</td>\n",
              "      <td>684.000000</td>\n",
              "      <td>684.000000</td>\n",
              "      <td>684.000000</td>\n",
              "      <td>684.000000</td>\n",
              "      <td>684.000000</td>\n",
              "      <td>684.000000</td>\n",
              "      <td>684.000000</td>\n",
              "      <td>684.000000</td>\n",
              "      <td>684.000000</td>\n",
              "      <td>684.000000</td>\n",
              "      <td>684.000000</td>\n",
              "      <td>684.000000</td>\n",
              "      <td>684.000000</td>\n",
              "      <td>684.000000</td>\n",
              "      <td>6.840000e+02</td>\n",
              "      <td>684.000000</td>\n",
              "      <td>684.000000</td>\n",
              "      <td>684.000000</td>\n",
              "      <td>684.000000</td>\n",
              "      <td>684.000000</td>\n",
              "      <td>684.000000</td>\n",
              "    </tr>\n",
              "    <tr>\n",
              "      <th>mean</th>\n",
              "      <td>2016.500000</td>\n",
              "      <td>10.061404</td>\n",
              "      <td>35.935673</td>\n",
              "      <td>13.434211</td>\n",
              "      <td>9.067251</td>\n",
              "      <td>13.434211</td>\n",
              "      <td>48.190058</td>\n",
              "      <td>48.190058</td>\n",
              "      <td>49.369883</td>\n",
              "      <td>47.064744</td>\n",
              "      <td>-1.125315</td>\n",
              "      <td>42.902596</td>\n",
              "      <td>47.064744</td>\n",
              "      <td>-1.125315</td>\n",
              "      <td>42.902596</td>\n",
              "      <td>2.792600e-16</td>\n",
              "      <td>10.911784</td>\n",
              "      <td>10.911772</td>\n",
              "      <td>208.676901</td>\n",
              "      <td>208.676901</td>\n",
              "      <td>49.539598</td>\n",
              "      <td>0.169715</td>\n",
              "    </tr>\n",
              "    <tr>\n",
              "      <th>std</th>\n",
              "      <td>1.709075</td>\n",
              "      <td>5.580165</td>\n",
              "      <td>3.203487</td>\n",
              "      <td>5.880962</td>\n",
              "      <td>2.941824</td>\n",
              "      <td>5.510278</td>\n",
              "      <td>17.605374</td>\n",
              "      <td>13.866509</td>\n",
              "      <td>16.957678</td>\n",
              "      <td>14.595888</td>\n",
              "      <td>6.848179</td>\n",
              "      <td>13.695898</td>\n",
              "      <td>11.781399</td>\n",
              "      <td>6.663632</td>\n",
              "      <td>11.002013</td>\n",
              "      <td>1.929269e+01</td>\n",
              "      <td>2.521398</td>\n",
              "      <td>3.301410</td>\n",
              "      <td>83.888073</td>\n",
              "      <td>54.713624</td>\n",
              "      <td>13.559213</td>\n",
              "      <td>7.156998</td>\n",
              "    </tr>\n",
              "    <tr>\n",
              "      <th>min</th>\n",
              "      <td>2014.000000</td>\n",
              "      <td>1.000000</td>\n",
              "      <td>27.000000</td>\n",
              "      <td>2.000000</td>\n",
              "      <td>2.000000</td>\n",
              "      <td>1.000000</td>\n",
              "      <td>13.000000</td>\n",
              "      <td>15.000000</td>\n",
              "      <td>13.000000</td>\n",
              "      <td>15.064491</td>\n",
              "      <td>-30.963020</td>\n",
              "      <td>13.166872</td>\n",
              "      <td>16.838674</td>\n",
              "      <td>-29.175087</td>\n",
              "      <td>16.084399</td>\n",
              "      <td>-4.220877e+01</td>\n",
              "      <td>5.683535</td>\n",
              "      <td>4.394458</td>\n",
              "      <td>76.000000</td>\n",
              "      <td>83.000000</td>\n",
              "      <td>17.907700</td>\n",
              "      <td>-24.721600</td>\n",
              "    </tr>\n",
              "    <tr>\n",
              "      <th>25%</th>\n",
              "      <td>2015.000000</td>\n",
              "      <td>5.000000</td>\n",
              "      <td>34.000000</td>\n",
              "      <td>9.000000</td>\n",
              "      <td>7.000000</td>\n",
              "      <td>9.000000</td>\n",
              "      <td>36.000000</td>\n",
              "      <td>38.000000</td>\n",
              "      <td>38.000000</td>\n",
              "      <td>37.126256</td>\n",
              "      <td>-4.985319</td>\n",
              "      <td>33.811014</td>\n",
              "      <td>38.916186</td>\n",
              "      <td>-5.698828</td>\n",
              "      <td>35.474606</td>\n",
              "      <td>-1.325816e+01</td>\n",
              "      <td>9.090617</td>\n",
              "      <td>8.809866</td>\n",
              "      <td>151.750000</td>\n",
              "      <td>170.000000</td>\n",
              "      <td>39.466550</td>\n",
              "      <td>-4.498400</td>\n",
              "    </tr>\n",
              "    <tr>\n",
              "      <th>50%</th>\n",
              "      <td>2016.500000</td>\n",
              "      <td>10.000000</td>\n",
              "      <td>38.000000</td>\n",
              "      <td>12.000000</td>\n",
              "      <td>9.000000</td>\n",
              "      <td>14.000000</td>\n",
              "      <td>45.000000</td>\n",
              "      <td>48.000000</td>\n",
              "      <td>46.000000</td>\n",
              "      <td>44.706130</td>\n",
              "      <td>-0.608827</td>\n",
              "      <td>40.071031</td>\n",
              "      <td>47.310924</td>\n",
              "      <td>-0.918895</td>\n",
              "      <td>43.031911</td>\n",
              "      <td>-3.127901e+00</td>\n",
              "      <td>10.562543</td>\n",
              "      <td>10.347047</td>\n",
              "      <td>188.000000</td>\n",
              "      <td>205.000000</td>\n",
              "      <td>47.102100</td>\n",
              "      <td>0.116050</td>\n",
              "    </tr>\n",
              "    <tr>\n",
              "      <th>75%</th>\n",
              "      <td>2018.000000</td>\n",
              "      <td>15.000000</td>\n",
              "      <td>38.000000</td>\n",
              "      <td>16.000000</td>\n",
              "      <td>11.000000</td>\n",
              "      <td>17.000000</td>\n",
              "      <td>56.000000</td>\n",
              "      <td>58.000000</td>\n",
              "      <td>59.250000</td>\n",
              "      <td>53.864159</td>\n",
              "      <td>3.587158</td>\n",
              "      <td>49.220690</td>\n",
              "      <td>54.834899</td>\n",
              "      <td>3.381834</td>\n",
              "      <td>50.263465</td>\n",
              "      <td>9.740049e+00</td>\n",
              "      <td>12.434874</td>\n",
              "      <td>12.187434</td>\n",
              "      <td>242.000000</td>\n",
              "      <td>246.250000</td>\n",
              "      <td>56.942025</td>\n",
              "      <td>4.912775</td>\n",
              "    </tr>\n",
              "    <tr>\n",
              "      <th>max</th>\n",
              "      <td>2019.000000</td>\n",
              "      <td>20.000000</td>\n",
              "      <td>38.000000</td>\n",
              "      <td>32.000000</td>\n",
              "      <td>18.000000</td>\n",
              "      <td>29.000000</td>\n",
              "      <td>118.000000</td>\n",
              "      <td>94.000000</td>\n",
              "      <td>100.000000</td>\n",
              "      <td>113.598270</td>\n",
              "      <td>18.148854</td>\n",
              "      <td>99.477020</td>\n",
              "      <td>88.432186</td>\n",
              "      <td>16.370737</td>\n",
              "      <td>78.535447</td>\n",
              "      <td>7.304931e+01</td>\n",
              "      <td>21.896752</td>\n",
              "      <td>30.468113</td>\n",
              "      <td>582.000000</td>\n",
              "      <td>375.000000</td>\n",
              "      <td>94.380000</td>\n",
              "      <td>23.047500</td>\n",
              "    </tr>\n",
              "  </tbody>\n",
              "</table>\n",
              "</div>"
            ],
            "text/plain": [
              "              year    position     matches        wins       draws  \\\n",
              "count   684.000000  684.000000  684.000000  684.000000  684.000000   \n",
              "mean   2016.500000   10.061404   35.935673   13.434211    9.067251   \n",
              "std       1.709075    5.580165    3.203487    5.880962    2.941824   \n",
              "min    2014.000000    1.000000   27.000000    2.000000    2.000000   \n",
              "25%    2015.000000    5.000000   34.000000    9.000000    7.000000   \n",
              "50%    2016.500000   10.000000   38.000000   12.000000    9.000000   \n",
              "75%    2018.000000   15.000000   38.000000   16.000000   11.000000   \n",
              "max    2019.000000   20.000000   38.000000   32.000000   18.000000   \n",
              "\n",
              "            loses      scored      missed         pts          xG     xG_diff  \\\n",
              "count  684.000000  684.000000  684.000000  684.000000  684.000000  684.000000   \n",
              "mean    13.434211   48.190058   48.190058   49.369883   47.064744   -1.125315   \n",
              "std      5.510278   17.605374   13.866509   16.957678   14.595888    6.848179   \n",
              "min      1.000000   13.000000   15.000000   13.000000   15.064491  -30.963020   \n",
              "25%      9.000000   36.000000   38.000000   38.000000   37.126256   -4.985319   \n",
              "50%     14.000000   45.000000   48.000000   46.000000   44.706130   -0.608827   \n",
              "75%     17.000000   56.000000   58.000000   59.250000   53.864159    3.587158   \n",
              "max     29.000000  118.000000   94.000000  100.000000  113.598270   18.148854   \n",
              "\n",
              "             npxG         xGA    xGA_diff       npxGA         npxGD  \\\n",
              "count  684.000000  684.000000  684.000000  684.000000  6.840000e+02   \n",
              "mean    42.902596   47.064744   -1.125315   42.902596  2.792600e-16   \n",
              "std     13.695898   11.781399    6.663632   11.002013  1.929269e+01   \n",
              "min     13.166872   16.838674  -29.175087   16.084399 -4.220877e+01   \n",
              "25%     33.811014   38.916186   -5.698828   35.474606 -1.325816e+01   \n",
              "50%     40.071031   47.310924   -0.918895   43.031911 -3.127901e+00   \n",
              "75%     49.220690   54.834899    3.381834   50.263465  9.740049e+00   \n",
              "max     99.477020   88.432186   16.370737   78.535447  7.304931e+01   \n",
              "\n",
              "       passes_allowed  oppda_coef        deep  deep_allowed        xpts  \\\n",
              "count      684.000000  684.000000  684.000000    684.000000  684.000000   \n",
              "mean        10.911784   10.911772  208.676901    208.676901   49.539598   \n",
              "std          2.521398    3.301410   83.888073     54.713624   13.559213   \n",
              "min          5.683535    4.394458   76.000000     83.000000   17.907700   \n",
              "25%          9.090617    8.809866  151.750000    170.000000   39.466550   \n",
              "50%         10.562543   10.347047  188.000000    205.000000   47.102100   \n",
              "75%         12.434874   12.187434  242.000000    246.250000   56.942025   \n",
              "max         21.896752   30.468113  582.000000    375.000000   94.380000   \n",
              "\n",
              "        xpts_diff  \n",
              "count  684.000000  \n",
              "mean     0.169715  \n",
              "std      7.156998  \n",
              "min    -24.721600  \n",
              "25%     -4.498400  \n",
              "50%      0.116050  \n",
              "75%      4.912775  \n",
              "max     23.047500  "
            ]
          },
          "execution_count": 7,
          "metadata": {},
          "output_type": "execute_result"
        }
      ],
      "source": [
        "df.describe()"
      ],
      "id": "a8adf1ef"
    },
    {
      "cell_type": "markdown",
      "metadata": {
        "id": "60e56b9e"
      },
      "source": [
        "The data contains statistics between 2014 and 2019\n",
        "\n",
        "The highest number of points accumulated by a team over these years is 100\n",
        "\n",
        "The highest number of wins by a team over these years is 32 while the highest number of losses is 29"
      ],
      "id": "60e56b9e"
    },
    {
      "cell_type": "code",
      "execution_count": 14,
      "metadata": {
        "id": "K6HskgGrA9t2"
      },
      "outputs": [],
      "source": [
        "from google.colab import output\n",
        "output.enable_custom_widget_manager()"
      ],
      "id": "K6HskgGrA9t2"
    },
    {
      "cell_type": "code",
      "execution_count": 15,
      "metadata": {
        "id": "77fd6d54",
        "scrolled": true
      },
      "outputs": [],
      "source": [
        "profile=ProfileReport(df, title=\"Foot ball data report from 2014 to 2019\", html={\"style\":{\"full_width\":True}})\n"
      ],
      "id": "77fd6d54"
    },
    {
      "cell_type": "code",
      "source": [
        "#profile.to_widgets()\n",
        "#profile.to_notebook_iframe()"
      ],
      "metadata": {
        "colab": {
          "base_uri": "https://localhost:8080/",
          "height": 0,
          "referenced_widgets": [
            "18baa3e323e54d8d9ea47e2c8d14b4ea"
          ]
        },
        "id": "7UHmd_lnF1Og",
        "outputId": "b4c28639-d87c-4b3d-b413-a51ddd64764f"
      },
      "id": "7UHmd_lnF1Og",
      "execution_count": 21,
      "outputs": [
        {
          "output_type": "display_data",
          "data": {
            "text/plain": [
              "VBox(children=(Tab(children=(Tab(children=(GridBox(children=(VBox(children=(GridspecLayout(children=(HTML(valu…"
            ],
            "application/vnd.jupyter.widget-view+json": {
              "version_major": 2,
              "version_minor": 0,
              "model_id": "18baa3e323e54d8d9ea47e2c8d14b4ea"
            }
          },
          "metadata": {
            "application/vnd.jupyter.widget-view+json": {
              "colab": {
                "custom_widget_manager": {
                  "url": "https://ssl.gstatic.com/colaboratory-static/widgets/colab-cdn-widget-manager/d2e234f7cc04bf79/manager.min.js"
                }
              }
            }
          }
        }
      ]
    },
    {
      "cell_type": "code",
      "source": [
        "profile.to_file(output_file=\"Foot ball data report from 2014 to 2019.html\")"
      ],
      "metadata": {
        "colab": {
          "base_uri": "https://localhost:8080/",
          "height": 0,
          "referenced_widgets": [
            "7d5a6a1aff354d7a892e1f11a71fb630",
            "d806490c66464477bf3d85f196db8169",
            "a3542c53abb440f089ea8f7f0e34eb7d",
            "eae14944f1b44f6ea17396a5420d985c",
            "b8c2b54e1ddb438eaf2825e32bcd9ee3",
            "93c6d0c61677496fa61990e6cac700dc",
            "d770462878fe4c4186048f629b2c706a",
            "f75b42d316c246348d8c1cff65099ade",
            "3cb34b9a842b474a8cb76e7f1cda93cc",
            "409f652469b448ecae05f8302c7ceb89",
            "10eb3876b17e40218cf7afbbf9dfd281"
          ]
        },
        "id": "Fq_HU8nDFOsK",
        "outputId": "61bc2d8a-463e-47d8-a4b8-cefc5138ff38"
      },
      "id": "Fq_HU8nDFOsK",
      "execution_count": 20,
      "outputs": [
        {
          "output_type": "display_data",
          "data": {
            "text/plain": [
              "Export report to file:   0%|          | 0/1 [00:00<?, ?it/s]"
            ],
            "application/vnd.jupyter.widget-view+json": {
              "version_major": 2,
              "version_minor": 0,
              "model_id": "7d5a6a1aff354d7a892e1f11a71fb630"
            },
            "application/json": {
              "n": 0,
              "total": 1,
              "elapsed": 0.10493111610412598,
              "ncols": null,
              "nrows": null,
              "prefix": "Export report to file",
              "ascii": false,
              "unit": "it",
              "unit_scale": false,
              "rate": null,
              "bar_format": null,
              "postfix": null,
              "unit_divisor": 1000,
              "initial": 0,
              "colour": null
            }
          },
          "metadata": {
            "application/vnd.jupyter.widget-view+json": {
              "colab": {
                "custom_widget_manager": {
                  "url": "https://ssl.gstatic.com/colaboratory-static/widgets/colab-cdn-widget-manager/d2e234f7cc04bf79/manager.min.js"
                }
              }
            }
          }
        }
      ]
    },
    {
      "cell_type": "code",
      "execution_count": null,
      "metadata": {
        "id": "VfdrkzsuA9t4"
      },
      "outputs": [],
      "source": [
        "from google.colab import output\n",
        "output.disable_custom_widget_manager()"
      ],
      "id": "VfdrkzsuA9t4"
    },
    {
      "cell_type": "code",
      "execution_count": 13,
      "metadata": {
        "colab": {
          "base_uri": "https://localhost:8080/"
        },
        "id": "e7e1e772",
        "outputId": "fdba696c-2853-4c42-81f4-d15e21682f9a"
      },
      "outputs": [
        {
          "output_type": "execute_result",
          "data": {
            "text/plain": [
              "Index(['league', 'year', 'position', 'team', 'matches', 'wins', 'draws',\n",
              "       'loses', 'scored', 'missed', 'pts', 'xG', 'xG_diff', 'npxG', 'xGA',\n",
              "       'xGA_diff', 'npxGA', 'npxGD', 'passes_allowed', 'oppda_coef', 'deep',\n",
              "       'deep_allowed', 'xpts', 'xpts_diff'],\n",
              "      dtype='object')"
            ]
          },
          "metadata": {},
          "execution_count": 13
        }
      ],
      "source": [
        "df.columns"
      ],
      "id": "e7e1e772"
    },
    {
      "cell_type": "markdown",
      "metadata": {
        "id": "b89a876a"
      },
      "source": [
        "## Exploratory Data Analysis"
      ],
      "id": "b89a876a"
    },
    {
      "cell_type": "markdown",
      "metadata": {
        "id": "jI-RS0K66eo9"
      },
      "source": [
        "UNIQUE LEAQUES"
      ],
      "id": "jI-RS0K66eo9"
    },
    {
      "cell_type": "code",
      "execution_count": null,
      "metadata": {
        "id": "73984f51",
        "outputId": "897fafd4-5b10-43fb-a347-e39107441fda"
      },
      "outputs": [
        {
          "data": {
            "text/plain": [
              "array(['La_liga', 'EPL', 'Bundesliga', 'Serie_A', 'Ligue_1', 'RFPL'],\n",
              "      dtype=object)"
            ]
          },
          "execution_count": 8,
          "metadata": {},
          "output_type": "execute_result"
        }
      ],
      "source": [
        "df.league.unique()"
      ],
      "id": "73984f51"
    },
    {
      "cell_type": "markdown",
      "metadata": {
        "id": "py-u3DF-8lkP"
      },
      "source": [
        "DISTRIBUTION OF POINT ACROSS LEAQUES FROM 2014 to 2019"
      ],
      "id": "py-u3DF-8lkP"
    },
    {
      "cell_type": "code",
      "execution_count": null,
      "metadata": {
        "id": "fb182447",
        "outputId": "99ecbada-d5b0-43e3-d2f0-91c56933fe6a"
      },
      "outputs": [
        {
          "data": {
            "image/png": "[encoded data removed]",
            "text/plain": [
              "<Figure size 1080x576 with 2 Axes>"
            ]
          },
          "metadata": {},
          "output_type": "display_data"
        }
      ],
      "source": [
        "plt.figure(figsize = [15,8])\n",
        "\n",
        "points_by_league = df.groupby(\"league\")[\"pts\"].sum(\n",
        "    ).sort_values(ascending = True)\n",
        "\n",
        "plt.subplot(1,2,1)\n",
        "plt.bar(\n",
        "    x = points_by_league.index,\n",
        "    height = points_by_league,\n",
        "    color = sns.color_palette()\n",
        ")\n",
        "plt.ylabel(\"Points\")\n",
        "plt.xticks(rotation = 90);\n",
        "plt.suptitle(\"Distribution of points Across 6 UEFA Leagues From 2014 - 2019.\", fontsize = 20);\n",
        "\n",
        "plt.subplot(1,2,2)\n",
        "explode = np.array([0.01, 0.02, 0.04, 0.01, 0.01, 0.03])\n",
        "plt.pie(x = points_by_league, labels = points_by_league.index, autopct = \"%.0f%%\", explode = explode);\n",
        "\n",
        "plt.tight_layout()"
      ],
      "id": "fb182447"
    },
    {
      "cell_type": "markdown",
      "metadata": {
        "id": "uxEVFUe66k5A"
      },
      "source": [
        "NUMBER OF UNIQUE TEAMS ACROSS THE SIX LEAGUES"
      ],
      "id": "uxEVFUe66k5A"
    },
    {
      "cell_type": "code",
      "execution_count": null,
      "metadata": {
        "id": "1f262778",
        "outputId": "8277dfba-e48d-4df8-8549-9eda703a72e7"
      },
      "outputs": [
        {
          "data": {
            "image/png": "[encoded data removed]",
            "text/plain": [
              "<Figure size 432x288 with 1 Axes>"
            ]
          },
          "metadata": {},
          "output_type": "display_data"
        }
      ],
      "source": [
        "(df.groupby('league').team.nunique()).plot.barh(color='blue');"
      ],
      "id": "1f262778"
    },
    {
      "cell_type": "markdown",
      "metadata": {
        "id": "5efe0e2d"
      },
      "source": [
        "__Serie_A__, __La_liga__ and __EPL__ has the highest number of team participation(30 teams), followed by __Ligue_1__(29 teams), then __RFPL__(25 teams) and __Bundesliga__(24 teams). "
      ],
      "id": "5efe0e2d"
    },
    {
      "cell_type": "markdown",
      "metadata": {
        "id": "dfd7a1a6"
      },
      "source": [
        "Since we have different numbers of teams participation, we ought to analyze the leagues seperately"
      ],
      "id": "dfd7a1a6"
    },
    {
      "cell_type": "markdown",
      "metadata": {
        "id": "ec79dd6f"
      },
      "source": [
        "## EPL"
      ],
      "id": "ec79dd6f"
    },
    {
      "cell_type": "code",
      "execution_count": 24,
      "metadata": {
        "id": "4674cf27"
      },
      "outputs": [],
      "source": [
        "EPL_df = df[df.league=='EPL']"
      ],
      "id": "4674cf27"
    },
    {
      "cell_type": "code",
      "execution_count": null,
      "metadata": {
        "id": "aebc56f6",
        "scrolled": true
      },
      "outputs": [],
      "source": [
        "EPL_df.describe()"
      ],
      "id": "aebc56f6"
    },
    {
      "cell_type": "markdown",
      "metadata": {
        "id": "0c4d611d"
      },
      "source": [
        "The highest number of points recorded for __EPL__ is 100, this means that it is one of the highest performing league."
      ],
      "id": "0c4d611d"
    },
    {
      "cell_type": "code",
      "execution_count": null,
      "metadata": {
        "id": "01bbd19b",
        "outputId": "dec8a8d0-6a7c-4835-c884-e434387e7e0b"
      },
      "outputs": [
        {
          "data": {
            "image/png": "[encoded data removed]",
            "text/plain": [
              "<Figure size 720x720 with 1 Axes>"
            ]
          },
          "metadata": {},
          "output_type": "display_data"
        }
      ],
      "source": [
        "plt.figure(figsize=(10,10))\n",
        "plt.barh(EPL_df['team'], EPL_df['pts'], color='green')\n",
        "plt.title('Points Won by Each Team in EPL');"
      ],
      "id": "01bbd19b"
    },
    {
      "cell_type": "markdown",
      "source": [
        "**WINNING TEAMS IN EPL PER YEAR FROM 2014 TO 2019**"
      ],
      "metadata": {
        "id": "yc2psku-Lj3I"
      },
      "id": "yc2psku-Lj3I"
    },
    {
      "cell_type": "code",
      "execution_count": null,
      "metadata": {
        "colab": {
          "base_uri": "https://localhost:8080/",
          "height": 606
        },
        "id": "6db7f1b8",
        "outputId": "d02817d6-de05-4fc4-de71-561f5b1c37a3"
      },
      "outputs": [
        {
          "data": {
            "image/png": "[encoded data removed]",
            "text/plain": [
              "<Figure size 720x720 with 1 Axes>"
            ]
          },
          "metadata": {},
          "output_type": "display_data"
        }
      ],
      "source": [
        "fig, ax=plt.subplots(figsize=(10,10))\n",
        "plot=sns.barplot(x='year', y='pts', hue='team', data=EPL_df[EPL_df['position'] == 1], dodge=False)\n"
      ],
      "id": "6db7f1b8"
    },
    {
      "cell_type": "markdown",
      "metadata": {
        "id": "aa772f10"
      },
      "source": [
        "The winning teams in __EPL__ are Chelsea, Leicester, Manchester City and Liverpool"
      ],
      "id": "aa772f10"
    },
    {
      "cell_type": "markdown",
      "source": [
        "**NUMBER OF TIMES WINING TEAMS WON THE LEAGUE FROM 2014 TO 2019**"
      ],
      "metadata": {
        "id": "PmSHQpvyLp9X"
      },
      "id": "PmSHQpvyLp9X"
    },
    {
      "cell_type": "code",
      "source": [
        "EPL_df[EPL_df['position'] == 1].groupby('team').pts.count().sort_values(ascending=False).plot.bar(color='#7D0541')"
      ],
      "metadata": {
        "colab": {
          "base_uri": "https://localhost:8080/",
          "height": 367
        },
        "id": "UkGuE2ZxLq3p",
        "outputId": "25421799-fdfc-4c38-eb83-a6e308235e37"
      },
      "id": "UkGuE2ZxLq3p",
      "execution_count": 41,
      "outputs": [
        {
          "output_type": "execute_result",
          "data": {
            "text/plain": [
              "<matplotlib.axes._subplots.AxesSubplot at 0x7f4a1ab6a790>"
            ]
          },
          "metadata": {},
          "execution_count": 41
        },
        {
          "output_type": "display_data",
          "data": {
            "text/plain": [
              "<Figure size 432x288 with 1 Axes>"
            ],
            "image/png": "[encoded data removed]"
          },
          "metadata": {
            "needs_background": "light"
          }
        }
      ]
    },
    {
      "cell_type": "markdown",
      "metadata": {
        "id": "bfdaf2f9"
      },
      "source": [
        "## La_liga"
      ],
      "id": "bfdaf2f9"
    },
    {
      "cell_type": "code",
      "execution_count": 25,
      "metadata": {
        "id": "6ac88e30"
      },
      "outputs": [],
      "source": [
        "La_liga = df[df.league=='La_liga']"
      ],
      "id": "6ac88e30"
    },
    {
      "cell_type": "code",
      "execution_count": null,
      "metadata": {
        "id": "38e44027",
        "outputId": "453f5eb1-3710-4bd7-863a-492a828b2fff"
      },
      "outputs": [
        {
          "data": {
            "text/html": [
              "<div>\n",
              "<style scoped>\n",
              "    .dataframe tbody tr th:only-of-type {\n",
              "        vertical-align: middle;\n",
              "    }\n",
              "\n",
              "    .dataframe tbody tr th {\n",
              "        vertical-align: top;\n",
              "    }\n",
              "\n",
              "    .dataframe thead th {\n",
              "        text-align: right;\n",
              "    }\n",
              "</style>\n",
              "<table border=\"1\" class=\"dataframe\">\n",
              "  <thead>\n",
              "    <tr style=\"text-align: right;\">\n",
              "      <th></th>\n",
              "      <th>year</th>\n",
              "      <th>position</th>\n",
              "      <th>matches</th>\n",
              "      <th>wins</th>\n",
              "      <th>draws</th>\n",
              "      <th>loses</th>\n",
              "      <th>scored</th>\n",
              "      <th>missed</th>\n",
              "      <th>pts</th>\n",
              "      <th>xG</th>\n",
              "      <th>xG_diff</th>\n",
              "      <th>npxG</th>\n",
              "      <th>xGA</th>\n",
              "      <th>xGA_diff</th>\n",
              "      <th>npxGA</th>\n",
              "      <th>npxGD</th>\n",
              "      <th>passes_allowed</th>\n",
              "      <th>oppda_coef</th>\n",
              "      <th>deep</th>\n",
              "      <th>deep_allowed</th>\n",
              "      <th>xpts</th>\n",
              "      <th>xpts_diff</th>\n",
              "    </tr>\n",
              "  </thead>\n",
              "  <tbody>\n",
              "    <tr>\n",
              "      <th>count</th>\n",
              "      <td>120.000000</td>\n",
              "      <td>120.000000</td>\n",
              "      <td>120.0</td>\n",
              "      <td>120.000000</td>\n",
              "      <td>120.000000</td>\n",
              "      <td>120.000000</td>\n",
              "      <td>120.000000</td>\n",
              "      <td>120.000000</td>\n",
              "      <td>120.000000</td>\n",
              "      <td>120.000000</td>\n",
              "      <td>120.000000</td>\n",
              "      <td>120.000000</td>\n",
              "      <td>120.000000</td>\n",
              "      <td>120.000000</td>\n",
              "      <td>120.000000</td>\n",
              "      <td>1.200000e+02</td>\n",
              "      <td>120.000000</td>\n",
              "      <td>120.000000</td>\n",
              "      <td>120.000000</td>\n",
              "      <td>120.000000</td>\n",
              "      <td>120.000000</td>\n",
              "      <td>120.000000</td>\n",
              "    </tr>\n",
              "    <tr>\n",
              "      <th>mean</th>\n",
              "      <td>2016.500000</td>\n",
              "      <td>10.500000</td>\n",
              "      <td>38.0</td>\n",
              "      <td>14.225000</td>\n",
              "      <td>9.550000</td>\n",
              "      <td>14.225000</td>\n",
              "      <td>50.991667</td>\n",
              "      <td>50.991667</td>\n",
              "      <td>52.225000</td>\n",
              "      <td>50.590325</td>\n",
              "      <td>-0.401342</td>\n",
              "      <td>46.095271</td>\n",
              "      <td>50.590325</td>\n",
              "      <td>-0.401342</td>\n",
              "      <td>46.095271</td>\n",
              "      <td>-2.960595e-17</td>\n",
              "      <td>9.654516</td>\n",
              "      <td>9.654516</td>\n",
              "      <td>214.000000</td>\n",
              "      <td>214.000000</td>\n",
              "      <td>52.438788</td>\n",
              "      <td>0.213788</td>\n",
              "    </tr>\n",
              "    <tr>\n",
              "      <th>std</th>\n",
              "      <td>1.714986</td>\n",
              "      <td>5.790459</td>\n",
              "      <td>0.0</td>\n",
              "      <td>6.265099</td>\n",
              "      <td>2.933005</td>\n",
              "      <td>5.679778</td>\n",
              "      <td>19.409127</td>\n",
              "      <td>13.935322</td>\n",
              "      <td>17.750589</td>\n",
              "      <td>15.695525</td>\n",
              "      <td>7.748572</td>\n",
              "      <td>14.682104</td>\n",
              "      <td>10.055751</td>\n",
              "      <td>7.958727</td>\n",
              "      <td>9.257804</td>\n",
              "      <td>2.071048e+01</td>\n",
              "      <td>1.638062</td>\n",
              "      <td>2.421631</td>\n",
              "      <td>95.210602</td>\n",
              "      <td>41.101023</td>\n",
              "      <td>13.481785</td>\n",
              "      <td>7.652968</td>\n",
              "    </tr>\n",
              "    <tr>\n",
              "      <th>min</th>\n",
              "      <td>2014.000000</td>\n",
              "      <td>1.000000</td>\n",
              "      <td>38.0</td>\n",
              "      <td>3.000000</td>\n",
              "      <td>2.000000</td>\n",
              "      <td>1.000000</td>\n",
              "      <td>22.000000</td>\n",
              "      <td>18.000000</td>\n",
              "      <td>20.000000</td>\n",
              "      <td>29.560107</td>\n",
              "      <td>-22.448406</td>\n",
              "      <td>27.534686</td>\n",
              "      <td>27.797052</td>\n",
              "      <td>-29.175087</td>\n",
              "      <td>24.727907</td>\n",
              "      <td>-4.220877e+01</td>\n",
              "      <td>5.683535</td>\n",
              "      <td>5.579031</td>\n",
              "      <td>91.000000</td>\n",
              "      <td>114.000000</td>\n",
              "      <td>26.495100</td>\n",
              "      <td>-17.401100</td>\n",
              "    </tr>\n",
              "    <tr>\n",
              "      <th>25%</th>\n",
              "      <td>2015.000000</td>\n",
              "      <td>5.750000</td>\n",
              "      <td>38.0</td>\n",
              "      <td>10.000000</td>\n",
              "      <td>8.000000</td>\n",
              "      <td>12.000000</td>\n",
              "      <td>40.000000</td>\n",
              "      <td>42.750000</td>\n",
              "      <td>40.500000</td>\n",
              "      <td>40.486799</td>\n",
              "      <td>-5.134395</td>\n",
              "      <td>36.290534</td>\n",
              "      <td>44.072260</td>\n",
              "      <td>-6.199896</td>\n",
              "      <td>40.131640</td>\n",
              "      <td>-1.341264e+01</td>\n",
              "      <td>8.765096</td>\n",
              "      <td>7.772162</td>\n",
              "      <td>147.750000</td>\n",
              "      <td>185.750000</td>\n",
              "      <td>42.816800</td>\n",
              "      <td>-5.012150</td>\n",
              "    </tr>\n",
              "    <tr>\n",
              "      <th>50%</th>\n",
              "      <td>2016.500000</td>\n",
              "      <td>10.500000</td>\n",
              "      <td>38.0</td>\n",
              "      <td>13.000000</td>\n",
              "      <td>9.500000</td>\n",
              "      <td>14.000000</td>\n",
              "      <td>46.000000</td>\n",
              "      <td>51.000000</td>\n",
              "      <td>49.000000</td>\n",
              "      <td>47.133680</td>\n",
              "      <td>1.125551</td>\n",
              "      <td>42.978246</td>\n",
              "      <td>50.644413</td>\n",
              "      <td>-0.069773</td>\n",
              "      <td>46.447073</td>\n",
              "      <td>-3.646443e+00</td>\n",
              "      <td>9.638156</td>\n",
              "      <td>9.252798</td>\n",
              "      <td>190.000000</td>\n",
              "      <td>216.000000</td>\n",
              "      <td>50.445450</td>\n",
              "      <td>0.607750</td>\n",
              "    </tr>\n",
              "    <tr>\n",
              "      <th>75%</th>\n",
              "      <td>2018.000000</td>\n",
              "      <td>15.250000</td>\n",
              "      <td>38.0</td>\n",
              "      <td>18.000000</td>\n",
              "      <td>11.000000</td>\n",
              "      <td>18.250000</td>\n",
              "      <td>56.000000</td>\n",
              "      <td>61.000000</td>\n",
              "      <td>60.250000</td>\n",
              "      <td>54.961149</td>\n",
              "      <td>4.651436</td>\n",
              "      <td>50.416723</td>\n",
              "      <td>57.745313</td>\n",
              "      <td>6.035948</td>\n",
              "      <td>51.328576</td>\n",
              "      <td>8.312188e+00</td>\n",
              "      <td>10.781221</td>\n",
              "      <td>11.022032</td>\n",
              "      <td>241.250000</td>\n",
              "      <td>245.500000</td>\n",
              "      <td>58.331300</td>\n",
              "      <td>5.141800</td>\n",
              "    </tr>\n",
              "    <tr>\n",
              "      <th>max</th>\n",
              "      <td>2019.000000</td>\n",
              "      <td>20.000000</td>\n",
              "      <td>38.0</td>\n",
              "      <td>30.000000</td>\n",
              "      <td>18.000000</td>\n",
              "      <td>28.000000</td>\n",
              "      <td>118.000000</td>\n",
              "      <td>94.000000</td>\n",
              "      <td>94.000000</td>\n",
              "      <td>113.598270</td>\n",
              "      <td>13.875215</td>\n",
              "      <td>99.477020</td>\n",
              "      <td>78.863255</td>\n",
              "      <td>14.419298</td>\n",
              "      <td>72.013818</td>\n",
              "      <td>7.304931e+01</td>\n",
              "      <td>14.086311</td>\n",
              "      <td>17.961598</td>\n",
              "      <td>570.000000</td>\n",
              "      <td>309.000000</td>\n",
              "      <td>94.380000</td>\n",
              "      <td>20.158700</td>\n",
              "    </tr>\n",
              "  </tbody>\n",
              "</table>\n",
              "</div>"
            ],
            "text/plain": [
              "              year    position  matches        wins       draws       loses  \\\n",
              "count   120.000000  120.000000    120.0  120.000000  120.000000  120.000000   \n",
              "mean   2016.500000   10.500000     38.0   14.225000    9.550000   14.225000   \n",
              "std       1.714986    5.790459      0.0    6.265099    2.933005    5.679778   \n",
              "min    2014.000000    1.000000     38.0    3.000000    2.000000    1.000000   \n",
              "25%    2015.000000    5.750000     38.0   10.000000    8.000000   12.000000   \n",
              "50%    2016.500000   10.500000     38.0   13.000000    9.500000   14.000000   \n",
              "75%    2018.000000   15.250000     38.0   18.000000   11.000000   18.250000   \n",
              "max    2019.000000   20.000000     38.0   30.000000   18.000000   28.000000   \n",
              "\n",
              "           scored      missed         pts          xG     xG_diff        npxG  \\\n",
              "count  120.000000  120.000000  120.000000  120.000000  120.000000  120.000000   \n",
              "mean    50.991667   50.991667   52.225000   50.590325   -0.401342   46.095271   \n",
              "std     19.409127   13.935322   17.750589   15.695525    7.748572   14.682104   \n",
              "min     22.000000   18.000000   20.000000   29.560107  -22.448406   27.534686   \n",
              "25%     40.000000   42.750000   40.500000   40.486799   -5.134395   36.290534   \n",
              "50%     46.000000   51.000000   49.000000   47.133680    1.125551   42.978246   \n",
              "75%     56.000000   61.000000   60.250000   54.961149    4.651436   50.416723   \n",
              "max    118.000000   94.000000   94.000000  113.598270   13.875215   99.477020   \n",
              "\n",
              "              xGA    xGA_diff       npxGA         npxGD  passes_allowed  \\\n",
              "count  120.000000  120.000000  120.000000  1.200000e+02      120.000000   \n",
              "mean    50.590325   -0.401342   46.095271 -2.960595e-17        9.654516   \n",
              "std     10.055751    7.958727    9.257804  2.071048e+01        1.638062   \n",
              "min     27.797052  -29.175087   24.727907 -4.220877e+01        5.683535   \n",
              "25%     44.072260   -6.199896   40.131640 -1.341264e+01        8.765096   \n",
              "50%     50.644413   -0.069773   46.447073 -3.646443e+00        9.638156   \n",
              "75%     57.745313    6.035948   51.328576  8.312188e+00       10.781221   \n",
              "max     78.863255   14.419298   72.013818  7.304931e+01       14.086311   \n",
              "\n",
              "       oppda_coef        deep  deep_allowed        xpts   xpts_diff  \n",
              "count  120.000000  120.000000    120.000000  120.000000  120.000000  \n",
              "mean     9.654516  214.000000    214.000000   52.438788    0.213788  \n",
              "std      2.421631   95.210602     41.101023   13.481785    7.652968  \n",
              "min      5.579031   91.000000    114.000000   26.495100  -17.401100  \n",
              "25%      7.772162  147.750000    185.750000   42.816800   -5.012150  \n",
              "50%      9.252798  190.000000    216.000000   50.445450    0.607750  \n",
              "75%     11.022032  241.250000    245.500000   58.331300    5.141800  \n",
              "max     17.961598  570.000000    309.000000   94.380000   20.158700  "
            ]
          },
          "execution_count": 16,
          "metadata": {},
          "output_type": "execute_result"
        }
      ],
      "source": [
        "La_liga.describe()"
      ],
      "id": "38e44027"
    },
    {
      "cell_type": "markdown",
      "metadata": {
        "id": "94666995"
      },
      "source": [
        "The highest number of points recorded for __La_liga__ is 94."
      ],
      "id": "94666995"
    },
    {
      "cell_type": "code",
      "execution_count": null,
      "metadata": {
        "id": "bf4ab265",
        "outputId": "88a09509-8db1-4b89-c600-c77575792e69"
      },
      "outputs": [
        {
          "data": {
            "image/png": "[encoded data removed]",
            "text/plain": [
              "<Figure size 720x720 with 1 Axes>"
            ]
          },
          "metadata": {},
          "output_type": "display_data"
        }
      ],
      "source": [
        "plt.figure(figsize=(10,10))\n",
        "plt.barh(La_liga['team'], La_liga['pts'], color='#FF2400')\n",
        "plt.title('Points Won by Each Team in La_liga');"
      ],
      "id": "bf4ab265"
    },
    {
      "cell_type": "markdown",
      "source": [
        "**WINNING TEAMS IN LA_LIGA PER YEAR FROM 2014 TO 2019**"
      ],
      "metadata": {
        "id": "u26KyCGlLexN"
      },
      "id": "u26KyCGlLexN"
    },
    {
      "cell_type": "code",
      "execution_count": null,
      "metadata": {
        "colab": {
          "base_uri": "https://localhost:8080/",
          "height": 606
        },
        "id": "yZf9rwDxQ5K3",
        "outputId": "f6957aa7-f3ce-4639-a3d1-208792e8def8"
      },
      "outputs": [
        {
          "data": {
            "image/png": "[encoded data removed]",
            "text/plain": [
              "<Figure size 720x720 with 1 Axes>"
            ]
          },
          "metadata": {},
          "output_type": "display_data"
        }
      ],
      "source": [
        "fig, ax=plt.subplots(figsize=(10,10))\n",
        "plot=sns.barplot(x='year', y='pts', hue='team', data=La_liga[La_liga['position'] == 1], dodge=False)\n"
      ],
      "id": "yZf9rwDxQ5K3"
    },
    {
      "cell_type": "markdown",
      "source": [
        "**NUMBER OF TIMES WINING TEAMS WON THE LEAGUE FROM 2014 TO 2019**"
      ],
      "metadata": {
        "id": "hOpyTgQHMDWB"
      },
      "id": "hOpyTgQHMDWB"
    },
    {
      "cell_type": "code",
      "execution_count": null,
      "metadata": {
        "id": "6f803f09",
        "outputId": "cfdeeeb3-9b66-49e8-afab-e60212758f19"
      },
      "outputs": [
        {
          "data": {
            "text/plain": [
              "<AxesSubplot:xlabel='team'>"
            ]
          },
          "execution_count": 18,
          "metadata": {},
          "output_type": "execute_result"
        },
        {
          "data": {
            "image/png": "[encoded data removed]",
            "text/plain": [
              "<Figure size 432x288 with 1 Axes>"
            ]
          },
          "metadata": {},
          "output_type": "display_data"
        }
      ],
      "source": [
        "La_liga[La_liga['position'] == 1].groupby('team').pts.count().sort_values(ascending=False).plot.bar(color='#7D0541')"
      ],
      "id": "6f803f09"
    },
    {
      "cell_type": "markdown",
      "metadata": {
        "id": "5ef9ff04"
      },
      "source": [
        "The winning teams in __La_liga__ is Barcelona and Real Madrid"
      ],
      "id": "5ef9ff04"
    },
    {
      "cell_type": "markdown",
      "metadata": {
        "id": "83925ac5"
      },
      "source": [
        "## Serie_A"
      ],
      "id": "83925ac5"
    },
    {
      "cell_type": "code",
      "execution_count": null,
      "metadata": {
        "colab": {
          "background_save": true
        },
        "id": "f2bea1f8"
      },
      "outputs": [],
      "source": [
        "Serie_A = df[df.league=='Serie_A']"
      ],
      "id": "f2bea1f8"
    },
    {
      "cell_type": "code",
      "execution_count": null,
      "metadata": {
        "colab": {
          "base_uri": "https://localhost:8080/",
          "height": 364
        },
        "id": "940a8dc3",
        "outputId": "1a54af1b-f858-48d2-b70b-0aadc9276693"
      },
      "outputs": [
        {
          "data": {
            "text/html": [
              "\n",
              "  <div id=\"df-6b6d736d-b02b-4c73-b673-6b3a965efd51\">\n",
              "    <div class=\"colab-df-container\">\n",
              "      <div>\n",
              "<style scoped>\n",
              "    .dataframe tbody tr th:only-of-type {\n",
              "        vertical-align: middle;\n",
              "    }\n",
              "\n",
              "    .dataframe tbody tr th {\n",
              "        vertical-align: top;\n",
              "    }\n",
              "\n",
              "    .dataframe thead th {\n",
              "        text-align: right;\n",
              "    }\n",
              "</style>\n",
              "<table border=\"1\" class=\"dataframe\">\n",
              "  <thead>\n",
              "    <tr style=\"text-align: right;\">\n",
              "      <th></th>\n",
              "      <th>year</th>\n",
              "      <th>position</th>\n",
              "      <th>matches</th>\n",
              "      <th>wins</th>\n",
              "      <th>draws</th>\n",
              "      <th>loses</th>\n",
              "      <th>scored</th>\n",
              "      <th>missed</th>\n",
              "      <th>pts</th>\n",
              "      <th>xG</th>\n",
              "      <th>xG_diff</th>\n",
              "      <th>npxG</th>\n",
              "      <th>xGA</th>\n",
              "      <th>xGA_diff</th>\n",
              "      <th>npxGA</th>\n",
              "      <th>npxGD</th>\n",
              "      <th>passes_allowed</th>\n",
              "      <th>oppda_coef</th>\n",
              "      <th>deep</th>\n",
              "      <th>deep_allowed</th>\n",
              "      <th>xpts</th>\n",
              "      <th>xpts_diff</th>\n",
              "    </tr>\n",
              "  </thead>\n",
              "  <tbody>\n",
              "    <tr>\n",
              "      <th>count</th>\n",
              "      <td>120.000000</td>\n",
              "      <td>120.000000</td>\n",
              "      <td>120.000000</td>\n",
              "      <td>120.000000</td>\n",
              "      <td>120.000000</td>\n",
              "      <td>120.000000</td>\n",
              "      <td>120.000000</td>\n",
              "      <td>120.000000</td>\n",
              "      <td>120.000000</td>\n",
              "      <td>120.000000</td>\n",
              "      <td>120.000000</td>\n",
              "      <td>120.000000</td>\n",
              "      <td>120.000000</td>\n",
              "      <td>120.000000</td>\n",
              "      <td>120.000000</td>\n",
              "      <td>1.200000e+02</td>\n",
              "      <td>120.000000</td>\n",
              "      <td>120.000000</td>\n",
              "      <td>120.000000</td>\n",
              "      <td>120.000000</td>\n",
              "      <td>120.000000</td>\n",
              "      <td>120.000000</td>\n",
              "    </tr>\n",
              "    <tr>\n",
              "      <th>mean</th>\n",
              "      <td>2016.500000</td>\n",
              "      <td>10.500000</td>\n",
              "      <td>37.916667</td>\n",
              "      <td>14.208333</td>\n",
              "      <td>9.500000</td>\n",
              "      <td>14.208333</td>\n",
              "      <td>52.491667</td>\n",
              "      <td>52.491667</td>\n",
              "      <td>52.125000</td>\n",
              "      <td>51.026213</td>\n",
              "      <td>-1.465454</td>\n",
              "      <td>45.864169</td>\n",
              "      <td>51.026213</td>\n",
              "      <td>-1.465454</td>\n",
              "      <td>45.864169</td>\n",
              "      <td>3.552714e-16</td>\n",
              "      <td>11.054684</td>\n",
              "      <td>11.050871</td>\n",
              "      <td>227.450000</td>\n",
              "      <td>227.450000</td>\n",
              "      <td>52.373047</td>\n",
              "      <td>0.248047</td>\n",
              "    </tr>\n",
              "    <tr>\n",
              "      <th>std</th>\n",
              "      <td>1.714986</td>\n",
              "      <td>5.790459</td>\n",
              "      <td>0.277544</td>\n",
              "      <td>6.329730</td>\n",
              "      <td>3.111378</td>\n",
              "      <td>5.994249</td>\n",
              "      <td>16.297649</td>\n",
              "      <td>13.714983</td>\n",
              "      <td>18.184194</td>\n",
              "      <td>12.386373</td>\n",
              "      <td>7.267452</td>\n",
              "      <td>11.340868</td>\n",
              "      <td>12.048333</td>\n",
              "      <td>6.560906</td>\n",
              "      <td>10.872920</td>\n",
              "      <td>2.048413e+01</td>\n",
              "      <td>2.434392</td>\n",
              "      <td>3.150657</td>\n",
              "      <td>63.976079</td>\n",
              "      <td>56.405174</td>\n",
              "      <td>14.042052</td>\n",
              "      <td>7.715796</td>\n",
              "    </tr>\n",
              "    <tr>\n",
              "      <th>min</th>\n",
              "      <td>2014.000000</td>\n",
              "      <td>1.000000</td>\n",
              "      <td>37.000000</td>\n",
              "      <td>2.000000</td>\n",
              "      <td>3.000000</td>\n",
              "      <td>3.000000</td>\n",
              "      <td>25.000000</td>\n",
              "      <td>20.000000</td>\n",
              "      <td>15.000000</td>\n",
              "      <td>28.915261</td>\n",
              "      <td>-26.771265</td>\n",
              "      <td>28.153961</td>\n",
              "      <td>22.998835</td>\n",
              "      <td>-19.626499</td>\n",
              "      <td>19.920635</td>\n",
              "      <td>-3.929609e+01</td>\n",
              "      <td>6.444858</td>\n",
              "      <td>5.757820</td>\n",
              "      <td>112.000000</td>\n",
              "      <td>100.000000</td>\n",
              "      <td>29.381300</td>\n",
              "      <td>-21.494200</td>\n",
              "    </tr>\n",
              "    <tr>\n",
              "      <th>25%</th>\n",
              "      <td>2015.000000</td>\n",
              "      <td>5.750000</td>\n",
              "      <td>38.000000</td>\n",
              "      <td>10.000000</td>\n",
              "      <td>7.000000</td>\n",
              "      <td>10.000000</td>\n",
              "      <td>39.750000</td>\n",
              "      <td>43.000000</td>\n",
              "      <td>40.000000</td>\n",
              "      <td>41.998333</td>\n",
              "      <td>-5.842907</td>\n",
              "      <td>37.178089</td>\n",
              "      <td>42.463956</td>\n",
              "      <td>-5.431337</td>\n",
              "      <td>37.792601</td>\n",
              "      <td>-1.509991e+01</td>\n",
              "      <td>9.088270</td>\n",
              "      <td>8.748903</td>\n",
              "      <td>177.000000</td>\n",
              "      <td>184.500000</td>\n",
              "      <td>40.317925</td>\n",
              "      <td>-4.346975</td>\n",
              "    </tr>\n",
              "    <tr>\n",
              "      <th>50%</th>\n",
              "      <td>2016.500000</td>\n",
              "      <td>10.500000</td>\n",
              "      <td>38.000000</td>\n",
              "      <td>12.000000</td>\n",
              "      <td>9.000000</td>\n",
              "      <td>14.000000</td>\n",
              "      <td>49.000000</td>\n",
              "      <td>52.000000</td>\n",
              "      <td>47.500000</td>\n",
              "      <td>49.541419</td>\n",
              "      <td>-1.416919</td>\n",
              "      <td>43.844644</td>\n",
              "      <td>51.329472</td>\n",
              "      <td>-1.539328</td>\n",
              "      <td>46.097510</td>\n",
              "      <td>-3.015524e+00</td>\n",
              "      <td>10.486276</td>\n",
              "      <td>10.359466</td>\n",
              "      <td>213.000000</td>\n",
              "      <td>229.500000</td>\n",
              "      <td>49.567650</td>\n",
              "      <td>-1.064650</td>\n",
              "    </tr>\n",
              "    <tr>\n",
              "      <th>75%</th>\n",
              "      <td>2018.000000</td>\n",
              "      <td>15.250000</td>\n",
              "      <td>38.000000</td>\n",
              "      <td>18.000000</td>\n",
              "      <td>12.000000</td>\n",
              "      <td>19.000000</td>\n",
              "      <td>61.250000</td>\n",
              "      <td>61.000000</td>\n",
              "      <td>64.000000</td>\n",
              "      <td>59.922190</td>\n",
              "      <td>3.908069</td>\n",
              "      <td>53.283530</td>\n",
              "      <td>60.788905</td>\n",
              "      <td>3.295551</td>\n",
              "      <td>53.943305</td>\n",
              "      <td>1.311496e+01</td>\n",
              "      <td>12.864477</td>\n",
              "      <td>13.003131</td>\n",
              "      <td>271.750000</td>\n",
              "      <td>267.000000</td>\n",
              "      <td>62.223700</td>\n",
              "      <td>5.664200</td>\n",
              "    </tr>\n",
              "    <tr>\n",
              "      <th>max</th>\n",
              "      <td>2019.000000</td>\n",
              "      <td>20.000000</td>\n",
              "      <td>38.000000</td>\n",
              "      <td>30.000000</td>\n",
              "      <td>18.000000</td>\n",
              "      <td>29.000000</td>\n",
              "      <td>98.000000</td>\n",
              "      <td>84.000000</td>\n",
              "      <td>95.000000</td>\n",
              "      <td>86.174744</td>\n",
              "      <td>18.148854</td>\n",
              "      <td>78.527354</td>\n",
              "      <td>88.432186</td>\n",
              "      <td>13.371690</td>\n",
              "      <td>78.535447</td>\n",
              "      <td>4.381887e+01</td>\n",
              "      <td>16.884824</td>\n",
              "      <td>26.967792</td>\n",
              "      <td>369.000000</td>\n",
              "      <td>375.000000</td>\n",
              "      <td>82.863300</td>\n",
              "      <td>23.047500</td>\n",
              "    </tr>\n",
              "  </tbody>\n",
              "</table>\n",
              "</div>\n",
              "      <button class=\"colab-df-convert\" onclick=\"convertToInteractive('df-6b6d736d-b02b-4c73-b673-6b3a965efd51')\"\n",
              "              title=\"Convert this dataframe to an interactive table.\"\n",
              "              style=\"display:none;\">\n",
              "        \n",
              "  <svg xmlns=\"http://www.w3.org/2000/svg\" height=\"24px\"viewBox=\"0 0 24 24\"\n",
              "       width=\"24px\">\n",
              "    <path d=\"M0 0h24v24H0V0z\" fill=\"none\"/>\n",
              "    <path d=\"M18.56 5.44l.94 2.06.94-2.06 2.06-.94-2.06-.94-.94-2.06-.94 2.06-2.06.94zm-11 1L8.5 8.5l.94-2.06 2.06-.94-2.06-.94L8.5 2.5l-.94 2.06-2.06.94zm10 10l.94 2.06.94-2.06 2.06-.94-2.06-.94-.94-2.06-.94 2.06-2.06.94z\"/><path d=\"M17.41 7.96l-1.37-1.37c-.4-.4-.92-.59-1.43-.59-.52 0-1.04.2-1.43.59L10.3 9.45l-7.72 7.72c-.78.78-.78 2.05 0 2.83L4 21.41c.39.39.9.59 1.41.59.51 0 1.02-.2 1.41-.59l7.78-7.78 2.81-2.81c.8-.78.8-2.07 0-2.86zM5.41 20L4 18.59l7.72-7.72 1.47 1.35L5.41 20z\"/>\n",
              "  </svg>\n",
              "      </button>\n",
              "      \n",
              "  <style>\n",
              "    .colab-df-container {\n",
              "      display:flex;\n",
              "      flex-wrap:wrap;\n",
              "      gap: 12px;\n",
              "    }\n",
              "\n",
              "    .colab-df-convert {\n",
              "      background-color: #E8F0FE;\n",
              "      border: none;\n",
              "      border-radius: 50%;\n",
              "      cursor: pointer;\n",
              "      display: none;\n",
              "      fill: #1967D2;\n",
              "      height: 32px;\n",
              "      padding: 0 0 0 0;\n",
              "      width: 32px;\n",
              "    }\n",
              "\n",
              "    .colab-df-convert:hover {\n",
              "      background-color: #E2EBFA;\n",
              "      box-shadow: 0px 1px 2px rgba(60, 64, 67, 0.3), 0px 1px 3px 1px rgba(60, 64, 67, 0.15);\n",
              "      fill: #174EA6;\n",
              "    }\n",
              "\n",
              "    [theme=dark] .colab-df-convert {\n",
              "      background-color: #3B4455;\n",
              "      fill: #D2E3FC;\n",
              "    }\n",
              "\n",
              "    [theme=dark] .colab-df-convert:hover {\n",
              "      background-color: #434B5C;\n",
              "      box-shadow: 0px 1px 3px 1px rgba(0, 0, 0, 0.15);\n",
              "      filter: drop-shadow(0px 1px 2px rgba(0, 0, 0, 0.3));\n",
              "      fill: #FFFFFF;\n",
              "    }\n",
              "  </style>\n",
              "\n",
              "      <script>\n",
              "        const buttonEl =\n",
              "          document.querySelector('#df-6b6d736d-b02b-4c73-b673-6b3a965efd51 button.colab-df-convert');\n",
              "        buttonEl.style.display =\n",
              "          google.colab.kernel.accessAllowed ? 'block' : 'none';\n",
              "\n",
              "        async function convertToInteractive(key) {\n",
              "          const element = document.querySelector('#df-6b6d736d-b02b-4c73-b673-6b3a965efd51');\n",
              "          const dataTable =\n",
              "            await google.colab.kernel.invokeFunction('convertToInteractive',\n",
              "                                                     [key], {});\n",
              "          if (!dataTable) return;\n",
              "\n",
              "          const docLinkHtml = 'Like what you see? Visit the ' +\n",
              "            '<a target=\"_blank\" href=https://colab.research.google.com/notebooks/data_table.ipynb>data table notebook</a>'\n",
              "            + ' to learn more about interactive tables.';\n",
              "          element.innerHTML = '';\n",
              "          dataTable['output_type'] = 'display_data';\n",
              "          await google.colab.output.renderOutput(dataTable, element);\n",
              "          const docLink = document.createElement('div');\n",
              "          docLink.innerHTML = docLinkHtml;\n",
              "          element.appendChild(docLink);\n",
              "        }\n",
              "      </script>\n",
              "    </div>\n",
              "  </div>\n",
              "  "
            ],
            "text/plain": [
              "              year    position     matches        wins       draws  \\\n",
              "count   120.000000  120.000000  120.000000  120.000000  120.000000   \n",
              "mean   2016.500000   10.500000   37.916667   14.208333    9.500000   \n",
              "std       1.714986    5.790459    0.277544    6.329730    3.111378   \n",
              "min    2014.000000    1.000000   37.000000    2.000000    3.000000   \n",
              "25%    2015.000000    5.750000   38.000000   10.000000    7.000000   \n",
              "50%    2016.500000   10.500000   38.000000   12.000000    9.000000   \n",
              "75%    2018.000000   15.250000   38.000000   18.000000   12.000000   \n",
              "max    2019.000000   20.000000   38.000000   30.000000   18.000000   \n",
              "\n",
              "            loses      scored      missed         pts          xG     xG_diff  \\\n",
              "count  120.000000  120.000000  120.000000  120.000000  120.000000  120.000000   \n",
              "mean    14.208333   52.491667   52.491667   52.125000   51.026213   -1.465454   \n",
              "std      5.994249   16.297649   13.714983   18.184194   12.386373    7.267452   \n",
              "min      3.000000   25.000000   20.000000   15.000000   28.915261  -26.771265   \n",
              "25%     10.000000   39.750000   43.000000   40.000000   41.998333   -5.842907   \n",
              "50%     14.000000   49.000000   52.000000   47.500000   49.541419   -1.416919   \n",
              "75%     19.000000   61.250000   61.000000   64.000000   59.922190    3.908069   \n",
              "max     29.000000   98.000000   84.000000   95.000000   86.174744   18.148854   \n",
              "\n",
              "             npxG         xGA    xGA_diff       npxGA         npxGD  \\\n",
              "count  120.000000  120.000000  120.000000  120.000000  1.200000e+02   \n",
              "mean    45.864169   51.026213   -1.465454   45.864169  3.552714e-16   \n",
              "std     11.340868   12.048333    6.560906   10.872920  2.048413e+01   \n",
              "min     28.153961   22.998835  -19.626499   19.920635 -3.929609e+01   \n",
              "25%     37.178089   42.463956   -5.431337   37.792601 -1.509991e+01   \n",
              "50%     43.844644   51.329472   -1.539328   46.097510 -3.015524e+00   \n",
              "75%     53.283530   60.788905    3.295551   53.943305  1.311496e+01   \n",
              "max     78.527354   88.432186   13.371690   78.535447  4.381887e+01   \n",
              "\n",
              "       passes_allowed  oppda_coef        deep  deep_allowed        xpts  \\\n",
              "count      120.000000  120.000000  120.000000    120.000000  120.000000   \n",
              "mean        11.054684   11.050871  227.450000    227.450000   52.373047   \n",
              "std          2.434392    3.150657   63.976079     56.405174   14.042052   \n",
              "min          6.444858    5.757820  112.000000    100.000000   29.381300   \n",
              "25%          9.088270    8.748903  177.000000    184.500000   40.317925   \n",
              "50%         10.486276   10.359466  213.000000    229.500000   49.567650   \n",
              "75%         12.864477   13.003131  271.750000    267.000000   62.223700   \n",
              "max         16.884824   26.967792  369.000000    375.000000   82.863300   \n",
              "\n",
              "        xpts_diff  \n",
              "count  120.000000  \n",
              "mean     0.248047  \n",
              "std      7.715796  \n",
              "min    -21.494200  \n",
              "25%     -4.346975  \n",
              "50%     -1.064650  \n",
              "75%      5.664200  \n",
              "max     23.047500  "
            ]
          },
          "execution_count": 83,
          "metadata": {},
          "output_type": "execute_result"
        }
      ],
      "source": [
        "Serie_A.describe()"
      ],
      "id": "940a8dc3"
    },
    {
      "cell_type": "markdown",
      "metadata": {
        "id": "f886c207"
      },
      "source": [
        "The highest number of points recorded for __Serie_A__ is 95."
      ],
      "id": "f886c207"
    },
    {
      "cell_type": "code",
      "execution_count": null,
      "metadata": {
        "colab": {
          "base_uri": "https://localhost:8080/",
          "height": 607
        },
        "id": "0e941331",
        "outputId": "eb91eb83-fb5a-4353-8750-4a3a8476c1e4"
      },
      "outputs": [
        {
          "data": {
            "image/png": "[encoded data removed]",
            "text/plain": [
              "<Figure size 720x720 with 1 Axes>"
            ]
          },
          "metadata": {},
          "output_type": "display_data"
        }
      ],
      "source": [
        "plt.figure(figsize=(10,10))\n",
        "plt.barh(Serie_A['team'], Serie_A['pts'], color='#F8B88B')\n",
        "plt.title('Points Won by Each Team in La_liga');"
      ],
      "id": "0e941331"
    },
    {
      "cell_type": "markdown",
      "source": [
        "**WINNING TEAMS IN SERIE_A PER YEAR FROM 2014 TO 2019**"
      ],
      "metadata": {
        "id": "9n7uKH0HLKH_"
      },
      "id": "9n7uKH0HLKH_"
    },
    {
      "cell_type": "code",
      "execution_count": null,
      "metadata": {
        "colab": {
          "base_uri": "https://localhost:8080/",
          "height": 606
        },
        "id": "tofq2AQgTMpL",
        "outputId": "cbdce4aa-977d-4ed9-c9a4-44b714ed8a9a"
      },
      "outputs": [
        {
          "data": {
            "image/png": "[encoded data removed]",
            "text/plain": [
              "<Figure size 720x720 with 1 Axes>"
            ]
          },
          "metadata": {},
          "output_type": "display_data"
        }
      ],
      "source": [
        "fig, ax=plt.subplots(figsize=(10,10))\n",
        "plot=sns.barplot(x='year', y='pts', hue='team', data=Serie_A[Serie_A['position'] == 1], dodge=False)\n"
      ],
      "id": "tofq2AQgTMpL"
    },
    {
      "cell_type": "markdown",
      "source": [
        "**NUMBER OF TIMES WINNING TEAMS WON THE LEAGUE FROM 2014 TO 2019**"
      ],
      "metadata": {
        "id": "pLrviU7vMGLN"
      },
      "id": "pLrviU7vMGLN"
    },
    {
      "cell_type": "code",
      "execution_count": null,
      "metadata": {
        "colab": {
          "base_uri": "https://localhost:8080/",
          "height": 329
        },
        "id": "f65eedb3",
        "outputId": "1579157c-ee1e-4d37-b269-709fc3e75ed1"
      },
      "outputs": [
        {
          "data": {
            "text/plain": [
              "<matplotlib.axes._subplots.AxesSubplot at 0x7f6f02cd2490>"
            ]
          },
          "execution_count": 85,
          "metadata": {},
          "output_type": "execute_result"
        },
        {
          "data": {
            "image/png": "[encoded data removed]",
            "text/plain": [
              "<Figure size 432x288 with 1 Axes>"
            ]
          },
          "metadata": {},
          "output_type": "display_data"
        }
      ],
      "source": [
        "Serie_A[Serie_A['position'] == 1].groupby('team').pts.count().sort_values(ascending=False).plot.bar(color='#86608E')"
      ],
      "id": "f65eedb3"
    },
    {
      "cell_type": "markdown",
      "metadata": {
        "id": "2e6f4d44"
      },
      "source": [
        "Juventus won for the six years in Series_A"
      ],
      "id": "2e6f4d44"
    },
    {
      "cell_type": "markdown",
      "metadata": {
        "id": "cbe679da"
      },
      "source": [
        "## Ligue_1"
      ],
      "id": "cbe679da"
    },
    {
      "cell_type": "code",
      "execution_count": 43,
      "metadata": {
        "id": "6a5c8138"
      },
      "outputs": [],
      "source": [
        "Ligue_1 = df[df.league=='Ligue_1']"
      ],
      "id": "6a5c8138"
    },
    {
      "cell_type": "code",
      "execution_count": null,
      "metadata": {
        "colab": {
          "base_uri": "https://localhost:8080/",
          "height": 364
        },
        "id": "a9713a09",
        "outputId": "ce5fe414-8a42-4697-d09a-d094dc947ed6"
      },
      "outputs": [
        {
          "data": {
            "text/html": [
              "\n",
              "  <div id=\"df-f022652e-997e-4bcd-818e-3eded00617ca\">\n",
              "    <div class=\"colab-df-container\">\n",
              "      <div>\n",
              "<style scoped>\n",
              "    .dataframe tbody tr th:only-of-type {\n",
              "        vertical-align: middle;\n",
              "    }\n",
              "\n",
              "    .dataframe tbody tr th {\n",
              "        vertical-align: top;\n",
              "    }\n",
              "\n",
              "    .dataframe thead th {\n",
              "        text-align: right;\n",
              "    }\n",
              "</style>\n",
              "<table border=\"1\" class=\"dataframe\">\n",
              "  <thead>\n",
              "    <tr style=\"text-align: right;\">\n",
              "      <th></th>\n",
              "      <th>year</th>\n",
              "      <th>position</th>\n",
              "      <th>matches</th>\n",
              "      <th>wins</th>\n",
              "      <th>draws</th>\n",
              "      <th>loses</th>\n",
              "      <th>scored</th>\n",
              "      <th>missed</th>\n",
              "      <th>pts</th>\n",
              "      <th>xG</th>\n",
              "      <th>xG_diff</th>\n",
              "      <th>npxG</th>\n",
              "      <th>xGA</th>\n",
              "      <th>xGA_diff</th>\n",
              "      <th>npxGA</th>\n",
              "      <th>npxGD</th>\n",
              "      <th>passes_allowed</th>\n",
              "      <th>oppda_coef</th>\n",
              "      <th>deep</th>\n",
              "      <th>deep_allowed</th>\n",
              "      <th>xpts</th>\n",
              "      <th>xpts_diff</th>\n",
              "    </tr>\n",
              "  </thead>\n",
              "  <tbody>\n",
              "    <tr>\n",
              "      <th>count</th>\n",
              "      <td>120.000000</td>\n",
              "      <td>120.000000</td>\n",
              "      <td>120.000000</td>\n",
              "      <td>120.000000</td>\n",
              "      <td>120.000000</td>\n",
              "      <td>120.000000</td>\n",
              "      <td>120.000000</td>\n",
              "      <td>120.000000</td>\n",
              "      <td>120.000000</td>\n",
              "      <td>120.000000</td>\n",
              "      <td>120.000000</td>\n",
              "      <td>120.000000</td>\n",
              "      <td>120.000000</td>\n",
              "      <td>120.000000</td>\n",
              "      <td>120.000000</td>\n",
              "      <td>1.200000e+02</td>\n",
              "      <td>120.000000</td>\n",
              "      <td>120.000000</td>\n",
              "      <td>120.000000</td>\n",
              "      <td>120.000000</td>\n",
              "      <td>120.000000</td>\n",
              "      <td>120.000000</td>\n",
              "    </tr>\n",
              "    <tr>\n",
              "      <th>mean</th>\n",
              "      <td>2016.500000</td>\n",
              "      <td>10.500000</td>\n",
              "      <td>36.316667</td>\n",
              "      <td>13.441667</td>\n",
              "      <td>9.433333</td>\n",
              "      <td>13.441667</td>\n",
              "      <td>46.750000</td>\n",
              "      <td>46.750000</td>\n",
              "      <td>49.758333</td>\n",
              "      <td>45.141445</td>\n",
              "      <td>-1.608555</td>\n",
              "      <td>40.666615</td>\n",
              "      <td>45.141445</td>\n",
              "      <td>-1.608555</td>\n",
              "      <td>40.666615</td>\n",
              "      <td>4.736952e-16</td>\n",
              "      <td>11.028938</td>\n",
              "      <td>11.032684</td>\n",
              "      <td>171.991667</td>\n",
              "      <td>171.991667</td>\n",
              "      <td>49.863386</td>\n",
              "      <td>0.105053</td>\n",
              "    </tr>\n",
              "    <tr>\n",
              "      <th>std</th>\n",
              "      <td>1.714986</td>\n",
              "      <td>5.790459</td>\n",
              "      <td>3.781830</td>\n",
              "      <td>5.542496</td>\n",
              "      <td>3.201190</td>\n",
              "      <td>5.308620</td>\n",
              "      <td>17.802488</td>\n",
              "      <td>12.523759</td>\n",
              "      <td>16.138578</td>\n",
              "      <td>13.916616</td>\n",
              "      <td>7.339592</td>\n",
              "      <td>12.726241</td>\n",
              "      <td>9.557286</td>\n",
              "      <td>6.667840</td>\n",
              "      <td>8.809796</td>\n",
              "      <td>1.756691e+01</td>\n",
              "      <td>2.183033</td>\n",
              "      <td>2.629136</td>\n",
              "      <td>62.550752</td>\n",
              "      <td>38.000994</td>\n",
              "      <td>12.823214</td>\n",
              "      <td>7.170049</td>\n",
              "    </tr>\n",
              "    <tr>\n",
              "      <th>min</th>\n",
              "      <td>2014.000000</td>\n",
              "      <td>1.000000</td>\n",
              "      <td>27.000000</td>\n",
              "      <td>3.000000</td>\n",
              "      <td>2.000000</td>\n",
              "      <td>2.000000</td>\n",
              "      <td>22.000000</td>\n",
              "      <td>19.000000</td>\n",
              "      <td>13.000000</td>\n",
              "      <td>24.651134</td>\n",
              "      <td>-30.963020</td>\n",
              "      <td>21.610759</td>\n",
              "      <td>22.434996</td>\n",
              "      <td>-18.333389</td>\n",
              "      <td>21.670482</td>\n",
              "      <td>-3.464838e+01</td>\n",
              "      <td>6.342344</td>\n",
              "      <td>6.414753</td>\n",
              "      <td>91.000000</td>\n",
              "      <td>86.000000</td>\n",
              "      <td>28.007300</td>\n",
              "      <td>-24.531500</td>\n",
              "    </tr>\n",
              "    <tr>\n",
              "      <th>25%</th>\n",
              "      <td>2015.000000</td>\n",
              "      <td>5.750000</td>\n",
              "      <td>38.000000</td>\n",
              "      <td>10.000000</td>\n",
              "      <td>7.000000</td>\n",
              "      <td>10.000000</td>\n",
              "      <td>35.000000</td>\n",
              "      <td>38.000000</td>\n",
              "      <td>38.000000</td>\n",
              "      <td>36.418133</td>\n",
              "      <td>-5.418713</td>\n",
              "      <td>32.492412</td>\n",
              "      <td>39.543448</td>\n",
              "      <td>-6.668538</td>\n",
              "      <td>35.957559</td>\n",
              "      <td>-1.088878e+01</td>\n",
              "      <td>9.527948</td>\n",
              "      <td>9.489468</td>\n",
              "      <td>132.750000</td>\n",
              "      <td>145.000000</td>\n",
              "      <td>41.640650</td>\n",
              "      <td>-4.630250</td>\n",
              "    </tr>\n",
              "    <tr>\n",
              "      <th>50%</th>\n",
              "      <td>2016.500000</td>\n",
              "      <td>10.500000</td>\n",
              "      <td>38.000000</td>\n",
              "      <td>12.000000</td>\n",
              "      <td>9.000000</td>\n",
              "      <td>14.000000</td>\n",
              "      <td>42.000000</td>\n",
              "      <td>46.500000</td>\n",
              "      <td>48.000000</td>\n",
              "      <td>42.798649</td>\n",
              "      <td>-0.782581</td>\n",
              "      <td>37.977506</td>\n",
              "      <td>45.156741</td>\n",
              "      <td>-1.561617</td>\n",
              "      <td>41.012219</td>\n",
              "      <td>-2.314358e+00</td>\n",
              "      <td>11.059302</td>\n",
              "      <td>10.556923</td>\n",
              "      <td>164.500000</td>\n",
              "      <td>171.500000</td>\n",
              "      <td>48.354900</td>\n",
              "      <td>-0.253950</td>\n",
              "    </tr>\n",
              "    <tr>\n",
              "      <th>75%</th>\n",
              "      <td>2018.000000</td>\n",
              "      <td>15.250000</td>\n",
              "      <td>38.000000</td>\n",
              "      <td>16.000000</td>\n",
              "      <td>11.000000</td>\n",
              "      <td>17.000000</td>\n",
              "      <td>53.000000</td>\n",
              "      <td>55.000000</td>\n",
              "      <td>56.500000</td>\n",
              "      <td>48.286188</td>\n",
              "      <td>3.471583</td>\n",
              "      <td>44.136797</td>\n",
              "      <td>51.089661</td>\n",
              "      <td>3.058983</td>\n",
              "      <td>46.945436</td>\n",
              "      <td>6.016496e+00</td>\n",
              "      <td>12.451429</td>\n",
              "      <td>12.058084</td>\n",
              "      <td>192.750000</td>\n",
              "      <td>196.250000</td>\n",
              "      <td>55.547400</td>\n",
              "      <td>4.426950</td>\n",
              "    </tr>\n",
              "    <tr>\n",
              "      <th>max</th>\n",
              "      <td>2019.000000</td>\n",
              "      <td>20.000000</td>\n",
              "      <td>38.000000</td>\n",
              "      <td>30.000000</td>\n",
              "      <td>18.000000</td>\n",
              "      <td>26.000000</td>\n",
              "      <td>108.000000</td>\n",
              "      <td>83.000000</td>\n",
              "      <td>96.000000</td>\n",
              "      <td>95.344060</td>\n",
              "      <td>14.174308</td>\n",
              "      <td>86.223077</td>\n",
              "      <td>73.283328</td>\n",
              "      <td>14.886751</td>\n",
              "      <td>68.008525</td>\n",
              "      <td>5.786981e+01</td>\n",
              "      <td>17.421286</td>\n",
              "      <td>21.270465</td>\n",
              "      <td>478.000000</td>\n",
              "      <td>281.000000</td>\n",
              "      <td>90.274800</td>\n",
              "      <td>19.155400</td>\n",
              "    </tr>\n",
              "  </tbody>\n",
              "</table>\n",
              "</div>\n",
              "      <button class=\"colab-df-convert\" onclick=\"convertToInteractive('df-f022652e-997e-4bcd-818e-3eded00617ca')\"\n",
              "              title=\"Convert this dataframe to an interactive table.\"\n",
              "              style=\"display:none;\">\n",
              "        \n",
              "  <svg xmlns=\"http://www.w3.org/2000/svg\" height=\"24px\"viewBox=\"0 0 24 24\"\n",
              "       width=\"24px\">\n",
              "    <path d=\"M0 0h24v24H0V0z\" fill=\"none\"/>\n",
              "    <path d=\"M18.56 5.44l.94 2.06.94-2.06 2.06-.94-2.06-.94-.94-2.06-.94 2.06-2.06.94zm-11 1L8.5 8.5l.94-2.06 2.06-.94-2.06-.94L8.5 2.5l-.94 2.06-2.06.94zm10 10l.94 2.06.94-2.06 2.06-.94-2.06-.94-.94-2.06-.94 2.06-2.06.94z\"/><path d=\"M17.41 7.96l-1.37-1.37c-.4-.4-.92-.59-1.43-.59-.52 0-1.04.2-1.43.59L10.3 9.45l-7.72 7.72c-.78.78-.78 2.05 0 2.83L4 21.41c.39.39.9.59 1.41.59.51 0 1.02-.2 1.41-.59l7.78-7.78 2.81-2.81c.8-.78.8-2.07 0-2.86zM5.41 20L4 18.59l7.72-7.72 1.47 1.35L5.41 20z\"/>\n",
              "  </svg>\n",
              "      </button>\n",
              "      \n",
              "  <style>\n",
              "    .colab-df-container {\n",
              "      display:flex;\n",
              "      flex-wrap:wrap;\n",
              "      gap: 12px;\n",
              "    }\n",
              "\n",
              "    .colab-df-convert {\n",
              "      background-color: #E8F0FE;\n",
              "      border: none;\n",
              "      border-radius: 50%;\n",
              "      cursor: pointer;\n",
              "      display: none;\n",
              "      fill: #1967D2;\n",
              "      height: 32px;\n",
              "      padding: 0 0 0 0;\n",
              "      width: 32px;\n",
              "    }\n",
              "\n",
              "    .colab-df-convert:hover {\n",
              "      background-color: #E2EBFA;\n",
              "      box-shadow: 0px 1px 2px rgba(60, 64, 67, 0.3), 0px 1px 3px 1px rgba(60, 64, 67, 0.15);\n",
              "      fill: #174EA6;\n",
              "    }\n",
              "\n",
              "    [theme=dark] .colab-df-convert {\n",
              "      background-color: #3B4455;\n",
              "      fill: #D2E3FC;\n",
              "    }\n",
              "\n",
              "    [theme=dark] .colab-df-convert:hover {\n",
              "      background-color: #434B5C;\n",
              "      box-shadow: 0px 1px 3px 1px rgba(0, 0, 0, 0.15);\n",
              "      filter: drop-shadow(0px 1px 2px rgba(0, 0, 0, 0.3));\n",
              "      fill: #FFFFFF;\n",
              "    }\n",
              "  </style>\n",
              "\n",
              "      <script>\n",
              "        const buttonEl =\n",
              "          document.querySelector('#df-f022652e-997e-4bcd-818e-3eded00617ca button.colab-df-convert');\n",
              "        buttonEl.style.display =\n",
              "          google.colab.kernel.accessAllowed ? 'block' : 'none';\n",
              "\n",
              "        async function convertToInteractive(key) {\n",
              "          const element = document.querySelector('#df-f022652e-997e-4bcd-818e-3eded00617ca');\n",
              "          const dataTable =\n",
              "            await google.colab.kernel.invokeFunction('convertToInteractive',\n",
              "                                                     [key], {});\n",
              "          if (!dataTable) return;\n",
              "\n",
              "          const docLinkHtml = 'Like what you see? Visit the ' +\n",
              "            '<a target=\"_blank\" href=https://colab.research.google.com/notebooks/data_table.ipynb>data table notebook</a>'\n",
              "            + ' to learn more about interactive tables.';\n",
              "          element.innerHTML = '';\n",
              "          dataTable['output_type'] = 'display_data';\n",
              "          await google.colab.output.renderOutput(dataTable, element);\n",
              "          const docLink = document.createElement('div');\n",
              "          docLink.innerHTML = docLinkHtml;\n",
              "          element.appendChild(docLink);\n",
              "        }\n",
              "      </script>\n",
              "    </div>\n",
              "  </div>\n",
              "  "
            ],
            "text/plain": [
              "              year    position     matches        wins       draws  \\\n",
              "count   120.000000  120.000000  120.000000  120.000000  120.000000   \n",
              "mean   2016.500000   10.500000   36.316667   13.441667    9.433333   \n",
              "std       1.714986    5.790459    3.781830    5.542496    3.201190   \n",
              "min    2014.000000    1.000000   27.000000    3.000000    2.000000   \n",
              "25%    2015.000000    5.750000   38.000000   10.000000    7.000000   \n",
              "50%    2016.500000   10.500000   38.000000   12.000000    9.000000   \n",
              "75%    2018.000000   15.250000   38.000000   16.000000   11.000000   \n",
              "max    2019.000000   20.000000   38.000000   30.000000   18.000000   \n",
              "\n",
              "            loses      scored      missed         pts          xG     xG_diff  \\\n",
              "count  120.000000  120.000000  120.000000  120.000000  120.000000  120.000000   \n",
              "mean    13.441667   46.750000   46.750000   49.758333   45.141445   -1.608555   \n",
              "std      5.308620   17.802488   12.523759   16.138578   13.916616    7.339592   \n",
              "min      2.000000   22.000000   19.000000   13.000000   24.651134  -30.963020   \n",
              "25%     10.000000   35.000000   38.000000   38.000000   36.418133   -5.418713   \n",
              "50%     14.000000   42.000000   46.500000   48.000000   42.798649   -0.782581   \n",
              "75%     17.000000   53.000000   55.000000   56.500000   48.286188    3.471583   \n",
              "max     26.000000  108.000000   83.000000   96.000000   95.344060   14.174308   \n",
              "\n",
              "             npxG         xGA    xGA_diff       npxGA         npxGD  \\\n",
              "count  120.000000  120.000000  120.000000  120.000000  1.200000e+02   \n",
              "mean    40.666615   45.141445   -1.608555   40.666615  4.736952e-16   \n",
              "std     12.726241    9.557286    6.667840    8.809796  1.756691e+01   \n",
              "min     21.610759   22.434996  -18.333389   21.670482 -3.464838e+01   \n",
              "25%     32.492412   39.543448   -6.668538   35.957559 -1.088878e+01   \n",
              "50%     37.977506   45.156741   -1.561617   41.012219 -2.314358e+00   \n",
              "75%     44.136797   51.089661    3.058983   46.945436  6.016496e+00   \n",
              "max     86.223077   73.283328   14.886751   68.008525  5.786981e+01   \n",
              "\n",
              "       passes_allowed  oppda_coef        deep  deep_allowed        xpts  \\\n",
              "count      120.000000  120.000000  120.000000    120.000000  120.000000   \n",
              "mean        11.028938   11.032684  171.991667    171.991667   49.863386   \n",
              "std          2.183033    2.629136   62.550752     38.000994   12.823214   \n",
              "min          6.342344    6.414753   91.000000     86.000000   28.007300   \n",
              "25%          9.527948    9.489468  132.750000    145.000000   41.640650   \n",
              "50%         11.059302   10.556923  164.500000    171.500000   48.354900   \n",
              "75%         12.451429   12.058084  192.750000    196.250000   55.547400   \n",
              "max         17.421286   21.270465  478.000000    281.000000   90.274800   \n",
              "\n",
              "        xpts_diff  \n",
              "count  120.000000  \n",
              "mean     0.105053  \n",
              "std      7.170049  \n",
              "min    -24.531500  \n",
              "25%     -4.630250  \n",
              "50%     -0.253950  \n",
              "75%      4.426950  \n",
              "max     19.155400  "
            ]
          },
          "execution_count": 89,
          "metadata": {},
          "output_type": "execute_result"
        }
      ],
      "source": [
        "Ligue_1.describe()"
      ],
      "id": "a9713a09"
    },
    {
      "cell_type": "markdown",
      "metadata": {
        "id": "73bcd5b0"
      },
      "source": [
        "The highest number of points recorded fro __Ligue_1 is 96"
      ],
      "id": "73bcd5b0"
    },
    {
      "cell_type": "code",
      "source": [
        "plt.figure(figsize=(10,10))\n",
        "plt.barh(Ligue_1['team'], Ligue_1['pts'], color='cyan')\n",
        "plt.title('Points Won by Each Team in Ligue_1');"
      ],
      "metadata": {
        "colab": {
          "base_uri": "https://localhost:8080/",
          "height": 607
        },
        "id": "Mp0DaDreNlmk",
        "outputId": "4ec82477-e9c1-4c7c-f187-dbc6af188a3f"
      },
      "id": "Mp0DaDreNlmk",
      "execution_count": 44,
      "outputs": [
        {
          "output_type": "display_data",
          "data": {
            "text/plain": [
              "<Figure size 720x720 with 1 Axes>"
            ],
            "image/png": "[encoded data removed]"
          },
          "metadata": {
            "needs_background": "light"
          }
        }
      ]
    },
    {
      "cell_type": "markdown",
      "source": [
        "**WINNING TEAMS IN LIGUE_1 PER YEAR FROM 2014 TO 2019**"
      ],
      "metadata": {
        "id": "z4aOkzH9MMSr"
      },
      "id": "z4aOkzH9MMSr"
    },
    {
      "cell_type": "code",
      "execution_count": null,
      "metadata": {
        "colab": {
          "base_uri": "https://localhost:8080/",
          "height": 606
        },
        "id": "GhAY9P8DTktU",
        "outputId": "34981902-abac-44e1-a0e4-8034d8c8bb1c"
      },
      "outputs": [
        {
          "data": {
            "image/png": "[encoded data removed]",
            "text/plain": [
              "<Figure size 720x720 with 1 Axes>"
            ]
          },
          "metadata": {},
          "output_type": "display_data"
        }
      ],
      "source": [
        "fig, ax=plt.subplots(figsize=(10,10))\n",
        "plot=sns.barplot(x='year', y='pts', hue='team', data=Ligue_1[Ligue_1['position'] == 1], dodge=False)"
      ],
      "id": "GhAY9P8DTktU"
    },
    {
      "cell_type": "markdown",
      "source": [
        "**NUMBER OF TIMES WINNING TEAMS WON THE LEAGUE FROM 2014 TO 2019**"
      ],
      "metadata": {
        "id": "70j7phfsMLvS"
      },
      "id": "70j7phfsMLvS"
    },
    {
      "cell_type": "code",
      "execution_count": null,
      "metadata": {
        "id": "df6fba01",
        "outputId": "a1320508-90a3-41b5-8efd-7213fa850390"
      },
      "outputs": [
        {
          "data": {
            "text/plain": [
              "<AxesSubplot:xlabel='team'>"
            ]
          },
          "execution_count": 25,
          "metadata": {},
          "output_type": "execute_result"
        },
        {
          "data": {
            "image/png": "[encoded data removed]",
            "text/plain": [
              "<Figure size 432x288 with 1 Axes>"
            ]
          },
          "metadata": {},
          "output_type": "display_data"
        }
      ],
      "source": [
        "Ligue_1[Ligue_1['position'] == 1].groupby('team').pts.count().sort_values(ascending=False).plot.bar(color='pink')"
      ],
      "id": "df6fba01"
    },
    {
      "cell_type": "markdown",
      "metadata": {
        "id": "252960b1"
      },
      "source": [
        "The winning teams in __Ligue_1__ is Paris Sant Germain and Real Monaco"
      ],
      "id": "252960b1"
    },
    {
      "cell_type": "markdown",
      "metadata": {
        "id": "0ee38692"
      },
      "source": [
        "## RFPL"
      ],
      "id": "0ee38692"
    },
    {
      "cell_type": "code",
      "execution_count": 37,
      "metadata": {
        "id": "b79f4800"
      },
      "outputs": [],
      "source": [
        "RFPL = df[df.league=='RFPL']"
      ],
      "id": "b79f4800"
    },
    {
      "cell_type": "code",
      "execution_count": null,
      "metadata": {
        "colab": {
          "base_uri": "https://localhost:8080/",
          "height": 364
        },
        "id": "2ef297e4",
        "outputId": "02bee9ab-1c60-44d3-bb30-b338ad2f1f35"
      },
      "outputs": [
        {
          "data": {
            "text/html": [
              "\n",
              "  <div id=\"df-2f0abcfc-eee6-4e15-8f5e-6e14052b6094\">\n",
              "    <div class=\"colab-df-container\">\n",
              "      <div>\n",
              "<style scoped>\n",
              "    .dataframe tbody tr th:only-of-type {\n",
              "        vertical-align: middle;\n",
              "    }\n",
              "\n",
              "    .dataframe tbody tr th {\n",
              "        vertical-align: top;\n",
              "    }\n",
              "\n",
              "    .dataframe thead th {\n",
              "        text-align: right;\n",
              "    }\n",
              "</style>\n",
              "<table border=\"1\" class=\"dataframe\">\n",
              "  <thead>\n",
              "    <tr style=\"text-align: right;\">\n",
              "      <th></th>\n",
              "      <th>year</th>\n",
              "      <th>position</th>\n",
              "      <th>matches</th>\n",
              "      <th>wins</th>\n",
              "      <th>draws</th>\n",
              "      <th>loses</th>\n",
              "      <th>scored</th>\n",
              "      <th>missed</th>\n",
              "      <th>pts</th>\n",
              "      <th>xG</th>\n",
              "      <th>xG_diff</th>\n",
              "      <th>npxG</th>\n",
              "      <th>xGA</th>\n",
              "      <th>xGA_diff</th>\n",
              "      <th>npxGA</th>\n",
              "      <th>npxGD</th>\n",
              "      <th>passes_allowed</th>\n",
              "      <th>oppda_coef</th>\n",
              "      <th>deep</th>\n",
              "      <th>deep_allowed</th>\n",
              "      <th>xpts</th>\n",
              "      <th>xpts_diff</th>\n",
              "    </tr>\n",
              "  </thead>\n",
              "  <tbody>\n",
              "    <tr>\n",
              "      <th>count</th>\n",
              "      <td>96.00000</td>\n",
              "      <td>96.000000</td>\n",
              "      <td>96.0</td>\n",
              "      <td>96.000000</td>\n",
              "      <td>96.000000</td>\n",
              "      <td>96.000000</td>\n",
              "      <td>96.000000</td>\n",
              "      <td>96.000000</td>\n",
              "      <td>96.000000</td>\n",
              "      <td>96.000000</td>\n",
              "      <td>96.000000</td>\n",
              "      <td>96.000000</td>\n",
              "      <td>96.000000</td>\n",
              "      <td>96.000000</td>\n",
              "      <td>96.000000</td>\n",
              "      <td>96.000000</td>\n",
              "      <td>96.000000</td>\n",
              "      <td>96.000000</td>\n",
              "      <td>96.000000</td>\n",
              "      <td>96.000000</td>\n",
              "      <td>96.000000</td>\n",
              "      <td>96.000000</td>\n",
              "    </tr>\n",
              "    <tr>\n",
              "      <th>mean</th>\n",
              "      <td>2016.50000</td>\n",
              "      <td>8.500000</td>\n",
              "      <td>30.0</td>\n",
              "      <td>10.885417</td>\n",
              "      <td>8.229167</td>\n",
              "      <td>10.885417</td>\n",
              "      <td>34.885417</td>\n",
              "      <td>34.885417</td>\n",
              "      <td>40.885417</td>\n",
              "      <td>33.648690</td>\n",
              "      <td>-1.236726</td>\n",
              "      <td>30.142857</td>\n",
              "      <td>33.648690</td>\n",
              "      <td>-1.236726</td>\n",
              "      <td>30.142857</td>\n",
              "      <td>0.000000</td>\n",
              "      <td>10.697584</td>\n",
              "      <td>10.697584</td>\n",
              "      <td>179.760417</td>\n",
              "      <td>179.760417</td>\n",
              "      <td>40.888084</td>\n",
              "      <td>0.002668</td>\n",
              "    </tr>\n",
              "    <tr>\n",
              "      <th>std</th>\n",
              "      <td>1.71679</td>\n",
              "      <td>4.633971</td>\n",
              "      <td>0.0</td>\n",
              "      <td>4.555782</td>\n",
              "      <td>2.535969</td>\n",
              "      <td>4.393464</td>\n",
              "      <td>11.681627</td>\n",
              "      <td>10.363773</td>\n",
              "      <td>13.022143</td>\n",
              "      <td>9.357747</td>\n",
              "      <td>5.337627</td>\n",
              "      <td>8.512091</td>\n",
              "      <td>8.173421</td>\n",
              "      <td>5.887153</td>\n",
              "      <td>7.442254</td>\n",
              "      <td>13.425702</td>\n",
              "      <td>2.431317</td>\n",
              "      <td>2.649108</td>\n",
              "      <td>66.381790</td>\n",
              "      <td>43.551722</td>\n",
              "      <td>10.039479</td>\n",
              "      <td>6.319369</td>\n",
              "    </tr>\n",
              "    <tr>\n",
              "      <th>min</th>\n",
              "      <td>2014.00000</td>\n",
              "      <td>1.000000</td>\n",
              "      <td>30.0</td>\n",
              "      <td>2.000000</td>\n",
              "      <td>3.000000</td>\n",
              "      <td>2.000000</td>\n",
              "      <td>13.000000</td>\n",
              "      <td>15.000000</td>\n",
              "      <td>13.000000</td>\n",
              "      <td>15.064491</td>\n",
              "      <td>-15.977961</td>\n",
              "      <td>13.166872</td>\n",
              "      <td>16.838674</td>\n",
              "      <td>-16.493856</td>\n",
              "      <td>16.084399</td>\n",
              "      <td>-35.452036</td>\n",
              "      <td>6.543688</td>\n",
              "      <td>5.661046</td>\n",
              "      <td>76.000000</td>\n",
              "      <td>87.000000</td>\n",
              "      <td>17.907700</td>\n",
              "      <td>-23.998500</td>\n",
              "    </tr>\n",
              "    <tr>\n",
              "      <th>25%</th>\n",
              "      <td>2015.00000</td>\n",
              "      <td>4.750000</td>\n",
              "      <td>30.0</td>\n",
              "      <td>7.000000</td>\n",
              "      <td>6.000000</td>\n",
              "      <td>8.000000</td>\n",
              "      <td>25.000000</td>\n",
              "      <td>28.000000</td>\n",
              "      <td>31.000000</td>\n",
              "      <td>27.129795</td>\n",
              "      <td>-4.586700</td>\n",
              "      <td>24.795291</td>\n",
              "      <td>27.218191</td>\n",
              "      <td>-4.756895</td>\n",
              "      <td>24.626834</td>\n",
              "      <td>-9.608227</td>\n",
              "      <td>8.927048</td>\n",
              "      <td>8.867418</td>\n",
              "      <td>132.000000</td>\n",
              "      <td>146.750000</td>\n",
              "      <td>33.577750</td>\n",
              "      <td>-4.228525</td>\n",
              "    </tr>\n",
              "    <tr>\n",
              "      <th>50%</th>\n",
              "      <td>2016.50000</td>\n",
              "      <td>8.500000</td>\n",
              "      <td>30.0</td>\n",
              "      <td>10.000000</td>\n",
              "      <td>8.000000</td>\n",
              "      <td>11.000000</td>\n",
              "      <td>33.000000</td>\n",
              "      <td>33.000000</td>\n",
              "      <td>38.500000</td>\n",
              "      <td>31.605375</td>\n",
              "      <td>-1.478929</td>\n",
              "      <td>28.217528</td>\n",
              "      <td>33.000866</td>\n",
              "      <td>-0.188705</td>\n",
              "      <td>29.374306</td>\n",
              "      <td>-0.493966</td>\n",
              "      <td>10.439436</td>\n",
              "      <td>10.453681</td>\n",
              "      <td>162.000000</td>\n",
              "      <td>174.500000</td>\n",
              "      <td>39.122200</td>\n",
              "      <td>0.074650</td>\n",
              "    </tr>\n",
              "    <tr>\n",
              "      <th>75%</th>\n",
              "      <td>2018.00000</td>\n",
              "      <td>12.250000</td>\n",
              "      <td>30.0</td>\n",
              "      <td>14.000000</td>\n",
              "      <td>10.000000</td>\n",
              "      <td>14.000000</td>\n",
              "      <td>42.250000</td>\n",
              "      <td>42.250000</td>\n",
              "      <td>50.000000</td>\n",
              "      <td>40.003500</td>\n",
              "      <td>2.317407</td>\n",
              "      <td>35.270653</td>\n",
              "      <td>38.860233</td>\n",
              "      <td>2.825674</td>\n",
              "      <td>35.260337</td>\n",
              "      <td>8.717024</td>\n",
              "      <td>12.171317</td>\n",
              "      <td>12.216135</td>\n",
              "      <td>217.250000</td>\n",
              "      <td>208.750000</td>\n",
              "      <td>47.800575</td>\n",
              "      <td>4.325675</td>\n",
              "    </tr>\n",
              "    <tr>\n",
              "      <th>max</th>\n",
              "      <td>2019.00000</td>\n",
              "      <td>16.000000</td>\n",
              "      <td>30.0</td>\n",
              "      <td>22.000000</td>\n",
              "      <td>15.000000</td>\n",
              "      <td>22.000000</td>\n",
              "      <td>67.000000</td>\n",
              "      <td>64.000000</td>\n",
              "      <td>72.000000</td>\n",
              "      <td>62.392129</td>\n",
              "      <td>12.896445</td>\n",
              "      <td>54.095089</td>\n",
              "      <td>55.725229</td>\n",
              "      <td>15.454632</td>\n",
              "      <td>51.953859</td>\n",
              "      <td>32.191496</td>\n",
              "      <td>19.044158</td>\n",
              "      <td>17.711305</td>\n",
              "      <td>372.000000</td>\n",
              "      <td>318.000000</td>\n",
              "      <td>63.844800</td>\n",
              "      <td>13.724000</td>\n",
              "    </tr>\n",
              "  </tbody>\n",
              "</table>\n",
              "</div>\n",
              "      <button class=\"colab-df-convert\" onclick=\"convertToInteractive('df-2f0abcfc-eee6-4e15-8f5e-6e14052b6094')\"\n",
              "              title=\"Convert this dataframe to an interactive table.\"\n",
              "              style=\"display:none;\">\n",
              "        \n",
              "  <svg xmlns=\"http://www.w3.org/2000/svg\" height=\"24px\"viewBox=\"0 0 24 24\"\n",
              "       width=\"24px\">\n",
              "    <path d=\"M0 0h24v24H0V0z\" fill=\"none\"/>\n",
              "    <path d=\"M18.56 5.44l.94 2.06.94-2.06 2.06-.94-2.06-.94-.94-2.06-.94 2.06-2.06.94zm-11 1L8.5 8.5l.94-2.06 2.06-.94-2.06-.94L8.5 2.5l-.94 2.06-2.06.94zm10 10l.94 2.06.94-2.06 2.06-.94-2.06-.94-.94-2.06-.94 2.06-2.06.94z\"/><path d=\"M17.41 7.96l-1.37-1.37c-.4-.4-.92-.59-1.43-.59-.52 0-1.04.2-1.43.59L10.3 9.45l-7.72 7.72c-.78.78-.78 2.05 0 2.83L4 21.41c.39.39.9.59 1.41.59.51 0 1.02-.2 1.41-.59l7.78-7.78 2.81-2.81c.8-.78.8-2.07 0-2.86zM5.41 20L4 18.59l7.72-7.72 1.47 1.35L5.41 20z\"/>\n",
              "  </svg>\n",
              "      </button>\n",
              "      \n",
              "  <style>\n",
              "    .colab-df-container {\n",
              "      display:flex;\n",
              "      flex-wrap:wrap;\n",
              "      gap: 12px;\n",
              "    }\n",
              "\n",
              "    .colab-df-convert {\n",
              "      background-color: #E8F0FE;\n",
              "      border: none;\n",
              "      border-radius: 50%;\n",
              "      cursor: pointer;\n",
              "      display: none;\n",
              "      fill: #1967D2;\n",
              "      height: 32px;\n",
              "      padding: 0 0 0 0;\n",
              "      width: 32px;\n",
              "    }\n",
              "\n",
              "    .colab-df-convert:hover {\n",
              "      background-color: #E2EBFA;\n",
              "      box-shadow: 0px 1px 2px rgba(60, 64, 67, 0.3), 0px 1px 3px 1px rgba(60, 64, 67, 0.15);\n",
              "      fill: #174EA6;\n",
              "    }\n",
              "\n",
              "    [theme=dark] .colab-df-convert {\n",
              "      background-color: #3B4455;\n",
              "      fill: #D2E3FC;\n",
              "    }\n",
              "\n",
              "    [theme=dark] .colab-df-convert:hover {\n",
              "      background-color: #434B5C;\n",
              "      box-shadow: 0px 1px 3px 1px rgba(0, 0, 0, 0.15);\n",
              "      filter: drop-shadow(0px 1px 2px rgba(0, 0, 0, 0.3));\n",
              "      fill: #FFFFFF;\n",
              "    }\n",
              "  </style>\n",
              "\n",
              "      <script>\n",
              "        const buttonEl =\n",
              "          document.querySelector('#df-2f0abcfc-eee6-4e15-8f5e-6e14052b6094 button.colab-df-convert');\n",
              "        buttonEl.style.display =\n",
              "          google.colab.kernel.accessAllowed ? 'block' : 'none';\n",
              "\n",
              "        async function convertToInteractive(key) {\n",
              "          const element = document.querySelector('#df-2f0abcfc-eee6-4e15-8f5e-6e14052b6094');\n",
              "          const dataTable =\n",
              "            await google.colab.kernel.invokeFunction('convertToInteractive',\n",
              "                                                     [key], {});\n",
              "          if (!dataTable) return;\n",
              "\n",
              "          const docLinkHtml = 'Like what you see? Visit the ' +\n",
              "            '<a target=\"_blank\" href=https://colab.research.google.com/notebooks/data_table.ipynb>data table notebook</a>'\n",
              "            + ' to learn more about interactive tables.';\n",
              "          element.innerHTML = '';\n",
              "          dataTable['output_type'] = 'display_data';\n",
              "          await google.colab.output.renderOutput(dataTable, element);\n",
              "          const docLink = document.createElement('div');\n",
              "          docLink.innerHTML = docLinkHtml;\n",
              "          element.appendChild(docLink);\n",
              "        }\n",
              "      </script>\n",
              "    </div>\n",
              "  </div>\n",
              "  "
            ],
            "text/plain": [
              "             year   position  matches       wins      draws      loses  \\\n",
              "count    96.00000  96.000000     96.0  96.000000  96.000000  96.000000   \n",
              "mean   2016.50000   8.500000     30.0  10.885417   8.229167  10.885417   \n",
              "std       1.71679   4.633971      0.0   4.555782   2.535969   4.393464   \n",
              "min    2014.00000   1.000000     30.0   2.000000   3.000000   2.000000   \n",
              "25%    2015.00000   4.750000     30.0   7.000000   6.000000   8.000000   \n",
              "50%    2016.50000   8.500000     30.0  10.000000   8.000000  11.000000   \n",
              "75%    2018.00000  12.250000     30.0  14.000000  10.000000  14.000000   \n",
              "max    2019.00000  16.000000     30.0  22.000000  15.000000  22.000000   \n",
              "\n",
              "          scored     missed        pts         xG    xG_diff       npxG  \\\n",
              "count  96.000000  96.000000  96.000000  96.000000  96.000000  96.000000   \n",
              "mean   34.885417  34.885417  40.885417  33.648690  -1.236726  30.142857   \n",
              "std    11.681627  10.363773  13.022143   9.357747   5.337627   8.512091   \n",
              "min    13.000000  15.000000  13.000000  15.064491 -15.977961  13.166872   \n",
              "25%    25.000000  28.000000  31.000000  27.129795  -4.586700  24.795291   \n",
              "50%    33.000000  33.000000  38.500000  31.605375  -1.478929  28.217528   \n",
              "75%    42.250000  42.250000  50.000000  40.003500   2.317407  35.270653   \n",
              "max    67.000000  64.000000  72.000000  62.392129  12.896445  54.095089   \n",
              "\n",
              "             xGA   xGA_diff      npxGA      npxGD  passes_allowed  oppda_coef  \\\n",
              "count  96.000000  96.000000  96.000000  96.000000       96.000000   96.000000   \n",
              "mean   33.648690  -1.236726  30.142857   0.000000       10.697584   10.697584   \n",
              "std     8.173421   5.887153   7.442254  13.425702        2.431317    2.649108   \n",
              "min    16.838674 -16.493856  16.084399 -35.452036        6.543688    5.661046   \n",
              "25%    27.218191  -4.756895  24.626834  -9.608227        8.927048    8.867418   \n",
              "50%    33.000866  -0.188705  29.374306  -0.493966       10.439436   10.453681   \n",
              "75%    38.860233   2.825674  35.260337   8.717024       12.171317   12.216135   \n",
              "max    55.725229  15.454632  51.953859  32.191496       19.044158   17.711305   \n",
              "\n",
              "             deep  deep_allowed       xpts  xpts_diff  \n",
              "count   96.000000     96.000000  96.000000  96.000000  \n",
              "mean   179.760417    179.760417  40.888084   0.002668  \n",
              "std     66.381790     43.551722  10.039479   6.319369  \n",
              "min     76.000000     87.000000  17.907700 -23.998500  \n",
              "25%    132.000000    146.750000  33.577750  -4.228525  \n",
              "50%    162.000000    174.500000  39.122200   0.074650  \n",
              "75%    217.250000    208.750000  47.800575   4.325675  \n",
              "max    372.000000    318.000000  63.844800  13.724000  "
            ]
          },
          "execution_count": 92,
          "metadata": {},
          "output_type": "execute_result"
        }
      ],
      "source": [
        "RFPL.describe()"
      ],
      "id": "2ef297e4"
    },
    {
      "cell_type": "code",
      "source": [
        "plt.figure(figsize=(10,10))\n",
        "plt.barh(RFPL['team'], RFPL['pts'], color='#808000')\n",
        "plt.title('Points Won by Each Team in RFPL');"
      ],
      "metadata": {
        "colab": {
          "base_uri": "https://localhost:8080/",
          "height": 607
        },
        "id": "TTmn2ioyN3cV",
        "outputId": "17e7834c-e23b-4400-c1bd-f57dbaa41107"
      },
      "id": "TTmn2ioyN3cV",
      "execution_count": 47,
      "outputs": [
        {
          "output_type": "display_data",
          "data": {
            "text/plain": [
              "<Figure size 720x720 with 1 Axes>"
            ],
            "image/png": "[encoded data removed]"
          },
          "metadata": {
            "needs_background": "light"
          }
        }
      ]
    },
    {
      "cell_type": "markdown",
      "source": [
        "**WINNING TEAMS IN RFPL PER YEAR FROM 2014 TO 2019**"
      ],
      "metadata": {
        "id": "8O6iZV-PM9Ef"
      },
      "id": "8O6iZV-PM9Ef"
    },
    {
      "cell_type": "code",
      "execution_count": 38,
      "metadata": {
        "id": "3g6XE2JUT00Y",
        "colab": {
          "base_uri": "https://localhost:8080/",
          "height": 606
        },
        "outputId": "637196c3-dccf-4713-f5d1-1abb0688d24f"
      },
      "outputs": [
        {
          "output_type": "display_data",
          "data": {
            "text/plain": [
              "<Figure size 720x720 with 1 Axes>"
            ],
            "image/png": "[encoded data removed]"
          },
          "metadata": {
            "needs_background": "light"
          }
        }
      ],
      "source": [
        "fig, ax=plt.subplots(figsize=(10,10))\n",
        "plot=sns.barplot(x='year', y='pts', hue='team', data=RFPL[RFPL['position'] == 1], dodge=False)"
      ],
      "id": "3g6XE2JUT00Y"
    },
    {
      "cell_type": "markdown",
      "source": [
        "**NUMBER OF TIMES WINNING TEAMS WON THE LEAGUE FROM 2014 TO 2019**"
      ],
      "metadata": {
        "id": "uUrDdbHyMeK0"
      },
      "id": "uUrDdbHyMeK0"
    },
    {
      "cell_type": "code",
      "execution_count": null,
      "metadata": {
        "id": "5f393998",
        "outputId": "ebeea8cd-5405-474f-f840-547c12e1e3db"
      },
      "outputs": [
        {
          "data": {
            "text/plain": [
              "<AxesSubplot:xlabel='team'>"
            ]
          },
          "execution_count": 28,
          "metadata": {},
          "output_type": "execute_result"
        },
        {
          "data": {
            "image/png": "[encoded data removed]",
            "text/plain": [
              "<Figure size 432x288 with 1 Axes>"
            ]
          },
          "metadata": {},
          "output_type": "display_data"
        }
      ],
      "source": [
        "RFPL[RFPL['position'] == 1].groupby('team').pts.count().sort_values(ascending=False).plot.bar(color='pink')"
      ],
      "id": "5f393998"
    },
    {
      "cell_type": "markdown",
      "metadata": {
        "id": "46318ed5"
      },
      "source": [
        "The winning teams in __RFPL__ are Zenit St. Petersburg, CSKA Moscow, Lokomotiv Moscow, and Spartak Moscow"
      ],
      "id": "46318ed5"
    },
    {
      "cell_type": "markdown",
      "metadata": {
        "id": "54a7ba7f"
      },
      "source": [
        "## Bundesliga"
      ],
      "id": "54a7ba7f"
    },
    {
      "cell_type": "code",
      "execution_count": 26,
      "metadata": {
        "id": "743957d0"
      },
      "outputs": [],
      "source": [
        "Bundesliga = df[df.league=='Bundesliga']"
      ],
      "id": "743957d0"
    },
    {
      "cell_type": "code",
      "execution_count": 27,
      "metadata": {
        "id": "02c92e5d",
        "outputId": "1c1d32c4-64c0-4608-9ec4-fd284a17dbc4",
        "colab": {
          "base_uri": "https://localhost:8080/",
          "height": 364
        }
      },
      "outputs": [
        {
          "output_type": "execute_result",
          "data": {
            "text/plain": [
              "              year    position  matches        wins       draws       loses  \\\n",
              "count   108.000000  108.000000    108.0  108.000000  108.000000  108.000000   \n",
              "mean   2016.500000    9.500000     34.0   12.824074    8.351852   12.824074   \n",
              "std       1.715787    5.212315      0.0    5.212904    2.613104    4.773033   \n",
              "min    2014.000000    1.000000     34.0    3.000000    3.000000    2.000000   \n",
              "25%    2015.000000    5.000000     34.0    9.000000    7.000000   10.000000   \n",
              "50%    2016.500000    9.500000     34.0   12.000000    8.000000   13.000000   \n",
              "75%    2018.000000   14.000000     34.0   15.000000   10.000000   16.000000   \n",
              "max    2019.000000   18.000000     34.0   28.000000   15.000000   23.000000   \n",
              "\n",
              "           scored      missed         pts          xG     xG_diff        npxG  \\\n",
              "count  108.000000  108.000000  108.000000  108.000000  108.000000  108.000000   \n",
              "mean    49.962963   49.962963   46.824074   48.699397   -1.263566   45.094381   \n",
              "std     15.860328   11.981236   14.755850   13.365678    6.549721   13.143829   \n",
              "min     25.000000   17.000000   19.000000   31.646730  -19.738336   27.363924   \n",
              "25%     38.000000   42.000000   37.000000   38.737180   -4.302601   35.587823   \n",
              "50%     46.000000   50.000000   43.000000   45.730766   -0.702111   42.109068   \n",
              "75%     58.250000   58.000000   55.000000   54.005998    2.743131   50.657174   \n",
              "max    100.000000   75.000000   88.000000   92.851562   10.465999   89.209907   \n",
              "\n",
              "              xGA    xGA_diff       npxGA         npxGD  passes_allowed  \\\n",
              "count  108.000000  108.000000  108.000000  1.080000e+02      108.000000   \n",
              "mean    48.699397   -1.263566   45.094381  2.302685e-16       11.170879   \n",
              "std     10.139608    5.905770    9.784769  2.004250e+01        2.900721   \n",
              "min     20.794377  -14.455666   19.278818 -3.528055e+01        5.693289   \n",
              "25%     41.834641   -5.233107   38.938093 -1.406345e+01        9.054368   \n",
              "50%     48.589100   -1.103002   44.918711 -3.553709e+00       10.864652   \n",
              "75%     54.966211    3.101049   50.702944  8.261728e+00       12.856768   \n",
              "max     73.120366   16.370737   67.816015  6.634415e+01       20.304275   \n",
              "\n",
              "       oppda_coef        deep  deep_allowed        xpts   xpts_diff  \n",
              "count  108.000000  108.000000    108.000000  108.000000  108.000000  \n",
              "mean    11.170879  202.935185    202.935185   47.140381    0.316307  \n",
              "std      4.108193   70.742956     44.083242   12.024165    6.309963  \n",
              "min      4.394458   96.000000     83.000000   25.205500  -13.146000  \n",
              "25%      8.803239  153.750000    172.750000   39.192225   -4.562775  \n",
              "50%     10.287030  184.000000    206.500000   45.274100    0.064750  \n",
              "75%     12.089163  232.250000    232.250000   53.135800    4.392950  \n",
              "max     30.236541  435.000000    309.000000   82.003000   16.115800  "
            ],
            "text/html": [
              "\n",
              "  <div id=\"df-d2e91baa-6525-40ad-bcef-daa0eeb00aa1\">\n",
              "    <div class=\"colab-df-container\">\n",
              "      <div>\n",
              "<style scoped>\n",
              "    .dataframe tbody tr th:only-of-type {\n",
              "        vertical-align: middle;\n",
              "    }\n",
              "\n",
              "    .dataframe tbody tr th {\n",
              "        vertical-align: top;\n",
              "    }\n",
              "\n",
              "    .dataframe thead th {\n",
              "        text-align: right;\n",
              "    }\n",
              "</style>\n",
              "<table border=\"1\" class=\"dataframe\">\n",
              "  <thead>\n",
              "    <tr style=\"text-align: right;\">\n",
              "      <th></th>\n",
              "      <th>year</th>\n",
              "      <th>position</th>\n",
              "      <th>matches</th>\n",
              "      <th>wins</th>\n",
              "      <th>draws</th>\n",
              "      <th>loses</th>\n",
              "      <th>scored</th>\n",
              "      <th>missed</th>\n",
              "      <th>pts</th>\n",
              "      <th>xG</th>\n",
              "      <th>xG_diff</th>\n",
              "      <th>npxG</th>\n",
              "      <th>xGA</th>\n",
              "      <th>xGA_diff</th>\n",
              "      <th>npxGA</th>\n",
              "      <th>npxGD</th>\n",
              "      <th>passes_allowed</th>\n",
              "      <th>oppda_coef</th>\n",
              "      <th>deep</th>\n",
              "      <th>deep_allowed</th>\n",
              "      <th>xpts</th>\n",
              "      <th>xpts_diff</th>\n",
              "    </tr>\n",
              "  </thead>\n",
              "  <tbody>\n",
              "    <tr>\n",
              "      <th>count</th>\n",
              "      <td>108.000000</td>\n",
              "      <td>108.000000</td>\n",
              "      <td>108.0</td>\n",
              "      <td>108.000000</td>\n",
              "      <td>108.000000</td>\n",
              "      <td>108.000000</td>\n",
              "      <td>108.000000</td>\n",
              "      <td>108.000000</td>\n",
              "      <td>108.000000</td>\n",
              "      <td>108.000000</td>\n",
              "      <td>108.000000</td>\n",
              "      <td>108.000000</td>\n",
              "      <td>108.000000</td>\n",
              "      <td>108.000000</td>\n",
              "      <td>108.000000</td>\n",
              "      <td>1.080000e+02</td>\n",
              "      <td>108.000000</td>\n",
              "      <td>108.000000</td>\n",
              "      <td>108.000000</td>\n",
              "      <td>108.000000</td>\n",
              "      <td>108.000000</td>\n",
              "      <td>108.000000</td>\n",
              "    </tr>\n",
              "    <tr>\n",
              "      <th>mean</th>\n",
              "      <td>2016.500000</td>\n",
              "      <td>9.500000</td>\n",
              "      <td>34.0</td>\n",
              "      <td>12.824074</td>\n",
              "      <td>8.351852</td>\n",
              "      <td>12.824074</td>\n",
              "      <td>49.962963</td>\n",
              "      <td>49.962963</td>\n",
              "      <td>46.824074</td>\n",
              "      <td>48.699397</td>\n",
              "      <td>-1.263566</td>\n",
              "      <td>45.094381</td>\n",
              "      <td>48.699397</td>\n",
              "      <td>-1.263566</td>\n",
              "      <td>45.094381</td>\n",
              "      <td>2.302685e-16</td>\n",
              "      <td>11.170879</td>\n",
              "      <td>11.170879</td>\n",
              "      <td>202.935185</td>\n",
              "      <td>202.935185</td>\n",
              "      <td>47.140381</td>\n",
              "      <td>0.316307</td>\n",
              "    </tr>\n",
              "    <tr>\n",
              "      <th>std</th>\n",
              "      <td>1.715787</td>\n",
              "      <td>5.212315</td>\n",
              "      <td>0.0</td>\n",
              "      <td>5.212904</td>\n",
              "      <td>2.613104</td>\n",
              "      <td>4.773033</td>\n",
              "      <td>15.860328</td>\n",
              "      <td>11.981236</td>\n",
              "      <td>14.755850</td>\n",
              "      <td>13.365678</td>\n",
              "      <td>6.549721</td>\n",
              "      <td>13.143829</td>\n",
              "      <td>10.139608</td>\n",
              "      <td>5.905770</td>\n",
              "      <td>9.784769</td>\n",
              "      <td>2.004250e+01</td>\n",
              "      <td>2.900721</td>\n",
              "      <td>4.108193</td>\n",
              "      <td>70.742956</td>\n",
              "      <td>44.083242</td>\n",
              "      <td>12.024165</td>\n",
              "      <td>6.309963</td>\n",
              "    </tr>\n",
              "    <tr>\n",
              "      <th>min</th>\n",
              "      <td>2014.000000</td>\n",
              "      <td>1.000000</td>\n",
              "      <td>34.0</td>\n",
              "      <td>3.000000</td>\n",
              "      <td>3.000000</td>\n",
              "      <td>2.000000</td>\n",
              "      <td>25.000000</td>\n",
              "      <td>17.000000</td>\n",
              "      <td>19.000000</td>\n",
              "      <td>31.646730</td>\n",
              "      <td>-19.738336</td>\n",
              "      <td>27.363924</td>\n",
              "      <td>20.794377</td>\n",
              "      <td>-14.455666</td>\n",
              "      <td>19.278818</td>\n",
              "      <td>-3.528055e+01</td>\n",
              "      <td>5.693289</td>\n",
              "      <td>4.394458</td>\n",
              "      <td>96.000000</td>\n",
              "      <td>83.000000</td>\n",
              "      <td>25.205500</td>\n",
              "      <td>-13.146000</td>\n",
              "    </tr>\n",
              "    <tr>\n",
              "      <th>25%</th>\n",
              "      <td>2015.000000</td>\n",
              "      <td>5.000000</td>\n",
              "      <td>34.0</td>\n",
              "      <td>9.000000</td>\n",
              "      <td>7.000000</td>\n",
              "      <td>10.000000</td>\n",
              "      <td>38.000000</td>\n",
              "      <td>42.000000</td>\n",
              "      <td>37.000000</td>\n",
              "      <td>38.737180</td>\n",
              "      <td>-4.302601</td>\n",
              "      <td>35.587823</td>\n",
              "      <td>41.834641</td>\n",
              "      <td>-5.233107</td>\n",
              "      <td>38.938093</td>\n",
              "      <td>-1.406345e+01</td>\n",
              "      <td>9.054368</td>\n",
              "      <td>8.803239</td>\n",
              "      <td>153.750000</td>\n",
              "      <td>172.750000</td>\n",
              "      <td>39.192225</td>\n",
              "      <td>-4.562775</td>\n",
              "    </tr>\n",
              "    <tr>\n",
              "      <th>50%</th>\n",
              "      <td>2016.500000</td>\n",
              "      <td>9.500000</td>\n",
              "      <td>34.0</td>\n",
              "      <td>12.000000</td>\n",
              "      <td>8.000000</td>\n",
              "      <td>13.000000</td>\n",
              "      <td>46.000000</td>\n",
              "      <td>50.000000</td>\n",
              "      <td>43.000000</td>\n",
              "      <td>45.730766</td>\n",
              "      <td>-0.702111</td>\n",
              "      <td>42.109068</td>\n",
              "      <td>48.589100</td>\n",
              "      <td>-1.103002</td>\n",
              "      <td>44.918711</td>\n",
              "      <td>-3.553709e+00</td>\n",
              "      <td>10.864652</td>\n",
              "      <td>10.287030</td>\n",
              "      <td>184.000000</td>\n",
              "      <td>206.500000</td>\n",
              "      <td>45.274100</td>\n",
              "      <td>0.064750</td>\n",
              "    </tr>\n",
              "    <tr>\n",
              "      <th>75%</th>\n",
              "      <td>2018.000000</td>\n",
              "      <td>14.000000</td>\n",
              "      <td>34.0</td>\n",
              "      <td>15.000000</td>\n",
              "      <td>10.000000</td>\n",
              "      <td>16.000000</td>\n",
              "      <td>58.250000</td>\n",
              "      <td>58.000000</td>\n",
              "      <td>55.000000</td>\n",
              "      <td>54.005998</td>\n",
              "      <td>2.743131</td>\n",
              "      <td>50.657174</td>\n",
              "      <td>54.966211</td>\n",
              "      <td>3.101049</td>\n",
              "      <td>50.702944</td>\n",
              "      <td>8.261728e+00</td>\n",
              "      <td>12.856768</td>\n",
              "      <td>12.089163</td>\n",
              "      <td>232.250000</td>\n",
              "      <td>232.250000</td>\n",
              "      <td>53.135800</td>\n",
              "      <td>4.392950</td>\n",
              "    </tr>\n",
              "    <tr>\n",
              "      <th>max</th>\n",
              "      <td>2019.000000</td>\n",
              "      <td>18.000000</td>\n",
              "      <td>34.0</td>\n",
              "      <td>28.000000</td>\n",
              "      <td>15.000000</td>\n",
              "      <td>23.000000</td>\n",
              "      <td>100.000000</td>\n",
              "      <td>75.000000</td>\n",
              "      <td>88.000000</td>\n",
              "      <td>92.851562</td>\n",
              "      <td>10.465999</td>\n",
              "      <td>89.209907</td>\n",
              "      <td>73.120366</td>\n",
              "      <td>16.370737</td>\n",
              "      <td>67.816015</td>\n",
              "      <td>6.634415e+01</td>\n",
              "      <td>20.304275</td>\n",
              "      <td>30.236541</td>\n",
              "      <td>435.000000</td>\n",
              "      <td>309.000000</td>\n",
              "      <td>82.003000</td>\n",
              "      <td>16.115800</td>\n",
              "    </tr>\n",
              "  </tbody>\n",
              "</table>\n",
              "</div>\n",
              "      <button class=\"colab-df-convert\" onclick=\"convertToInteractive('df-d2e91baa-6525-40ad-bcef-daa0eeb00aa1')\"\n",
              "              title=\"Convert this dataframe to an interactive table.\"\n",
              "              style=\"display:none;\">\n",
              "        \n",
              "  <svg xmlns=\"http://www.w3.org/2000/svg\" height=\"24px\"viewBox=\"0 0 24 24\"\n",
              "       width=\"24px\">\n",
              "    <path d=\"M0 0h24v24H0V0z\" fill=\"none\"/>\n",
              "    <path d=\"M18.56 5.44l.94 2.06.94-2.06 2.06-.94-2.06-.94-.94-2.06-.94 2.06-2.06.94zm-11 1L8.5 8.5l.94-2.06 2.06-.94-2.06-.94L8.5 2.5l-.94 2.06-2.06.94zm10 10l.94 2.06.94-2.06 2.06-.94-2.06-.94-.94-2.06-.94 2.06-2.06.94z\"/><path d=\"M17.41 7.96l-1.37-1.37c-.4-.4-.92-.59-1.43-.59-.52 0-1.04.2-1.43.59L10.3 9.45l-7.72 7.72c-.78.78-.78 2.05 0 2.83L4 21.41c.39.39.9.59 1.41.59.51 0 1.02-.2 1.41-.59l7.78-7.78 2.81-2.81c.8-.78.8-2.07 0-2.86zM5.41 20L4 18.59l7.72-7.72 1.47 1.35L5.41 20z\"/>\n",
              "  </svg>\n",
              "      </button>\n",
              "      \n",
              "  <style>\n",
              "    .colab-df-container {\n",
              "      display:flex;\n",
              "      flex-wrap:wrap;\n",
              "      gap: 12px;\n",
              "    }\n",
              "\n",
              "    .colab-df-convert {\n",
              "      background-color: #E8F0FE;\n",
              "      border: none;\n",
              "      border-radius: 50%;\n",
              "      cursor: pointer;\n",
              "      display: none;\n",
              "      fill: #1967D2;\n",
              "      height: 32px;\n",
              "      padding: 0 0 0 0;\n",
              "      width: 32px;\n",
              "    }\n",
              "\n",
              "    .colab-df-convert:hover {\n",
              "      background-color: #E2EBFA;\n",
              "      box-shadow: 0px 1px 2px rgba(60, 64, 67, 0.3), 0px 1px 3px 1px rgba(60, 64, 67, 0.15);\n",
              "      fill: #174EA6;\n",
              "    }\n",
              "\n",
              "    [theme=dark] .colab-df-convert {\n",
              "      background-color: #3B4455;\n",
              "      fill: #D2E3FC;\n",
              "    }\n",
              "\n",
              "    [theme=dark] .colab-df-convert:hover {\n",
              "      background-color: #434B5C;\n",
              "      box-shadow: 0px 1px 3px 1px rgba(0, 0, 0, 0.15);\n",
              "      filter: drop-shadow(0px 1px 2px rgba(0, 0, 0, 0.3));\n",
              "      fill: #FFFFFF;\n",
              "    }\n",
              "  </style>\n",
              "\n",
              "      <script>\n",
              "        const buttonEl =\n",
              "          document.querySelector('#df-d2e91baa-6525-40ad-bcef-daa0eeb00aa1 button.colab-df-convert');\n",
              "        buttonEl.style.display =\n",
              "          google.colab.kernel.accessAllowed ? 'block' : 'none';\n",
              "\n",
              "        async function convertToInteractive(key) {\n",
              "          const element = document.querySelector('#df-d2e91baa-6525-40ad-bcef-daa0eeb00aa1');\n",
              "          const dataTable =\n",
              "            await google.colab.kernel.invokeFunction('convertToInteractive',\n",
              "                                                     [key], {});\n",
              "          if (!dataTable) return;\n",
              "\n",
              "          const docLinkHtml = 'Like what you see? Visit the ' +\n",
              "            '<a target=\"_blank\" href=https://colab.research.google.com/notebooks/data_table.ipynb>data table notebook</a>'\n",
              "            + ' to learn more about interactive tables.';\n",
              "          element.innerHTML = '';\n",
              "          dataTable['output_type'] = 'display_data';\n",
              "          await google.colab.output.renderOutput(dataTable, element);\n",
              "          const docLink = document.createElement('div');\n",
              "          docLink.innerHTML = docLinkHtml;\n",
              "          element.appendChild(docLink);\n",
              "        }\n",
              "      </script>\n",
              "    </div>\n",
              "  </div>\n",
              "  "
            ]
          },
          "metadata": {},
          "execution_count": 27
        }
      ],
      "source": [
        "Bundesliga.describe()"
      ],
      "id": "02c92e5d"
    },
    {
      "cell_type": "code",
      "source": [
        "plt.figure(figsize=(10,10))\n",
        "plt.barh(Bundesliga['team'], Bundesliga['pts'], color='#008080')\n",
        "plt.title('Points Won by Each Team in Bundesliga');"
      ],
      "metadata": {
        "colab": {
          "base_uri": "https://localhost:8080/",
          "height": 607
        },
        "id": "TMeyTsRJOZtI",
        "outputId": "38f9a6a8-8a27-48dd-b3e8-7af23febb41c"
      },
      "id": "TMeyTsRJOZtI",
      "execution_count": 49,
      "outputs": [
        {
          "output_type": "display_data",
          "data": {
            "text/plain": [
              "<Figure size 720x720 with 1 Axes>"
            ],
            "image/png": "[encoded data removed]"
          },
          "metadata": {
            "needs_background": "light"
          }
        }
      ]
    },
    {
      "cell_type": "markdown",
      "source": [
        "**WINNING TEAMS IN BUNDESLIGA PER YEAR FROM 2014 TO 2019**"
      ],
      "metadata": {
        "id": "UhU5Pt8eLZMb"
      },
      "id": "UhU5Pt8eLZMb"
    },
    {
      "cell_type": "code",
      "source": [
        "fig, ax=plt.subplots(figsize=(10,10))\n",
        "plot=sns.barplot(x='year', y='pts', hue='team', data=Bundesliga[Bundesliga['position'] == 1], dodge=False)"
      ],
      "metadata": {
        "colab": {
          "base_uri": "https://localhost:8080/",
          "height": 606
        },
        "id": "T5xxUfU5LYbp",
        "outputId": "72192d81-d57c-4265-cd2f-39b446151cec"
      },
      "id": "T5xxUfU5LYbp",
      "execution_count": 39,
      "outputs": [
        {
          "output_type": "display_data",
          "data": {
            "text/plain": [
              "<Figure size 720x720 with 1 Axes>"
            ],
            "image/png": "[encoded data removed]"
          },
          "metadata": {
            "needs_background": "light"
          }
        }
      ]
    },
    {
      "cell_type": "markdown",
      "source": [
        "**NUMBER OF TIMES WINNING TEAMS WON THE LEAGUE FROM 2014 TO 2019**"
      ],
      "metadata": {
        "id": "hnsdirQTMqaH"
      },
      "id": "hnsdirQTMqaH"
    },
    {
      "cell_type": "code",
      "execution_count": 28,
      "metadata": {
        "id": "0ceca031",
        "outputId": "6a53c18e-3a3e-48f3-86df-56e3e801275b",
        "colab": {
          "base_uri": "https://localhost:8080/",
          "height": 361
        }
      },
      "outputs": [
        {
          "output_type": "execute_result",
          "data": {
            "text/plain": [
              "<matplotlib.axes._subplots.AxesSubplot at 0x7f4a308d2990>"
            ]
          },
          "metadata": {},
          "execution_count": 28
        },
        {
          "output_type": "display_data",
          "data": {
            "text/plain": [
              "<Figure size 432x288 with 1 Axes>"
            ],
            "image/png": "[encoded data removed]"
          },
          "metadata": {
            "needs_background": "light"
          }
        }
      ],
      "source": [
        "Bundesliga[Bundesliga['position'] == 1].groupby('team').pts.count().sort_values(ascending=False).plot.bar(color='pink')"
      ],
      "id": "0ceca031"
    },
    {
      "cell_type": "markdown",
      "metadata": {
        "id": "73702be8"
      },
      "source": [
        "Bayern Munich won for the six years in __Bundesliga__"
      ],
      "id": "73702be8"
    },
    {
      "cell_type": "code",
      "execution_count": 29,
      "metadata": {
        "id": "34ae1309",
        "outputId": "d75fdfec-14cc-46a8-a9cb-70458836dd41",
        "scrolled": true,
        "colab": {
          "base_uri": "https://localhost:8080/",
          "height": 279
        }
      },
      "outputs": [
        {
          "output_type": "display_data",
          "data": {
            "text/plain": [
              "<Figure size 432x288 with 1 Axes>"
            ],
            "image/png": "[encoded data removed]"
          },
          "metadata": {
            "needs_background": "light"
          }
        }
      ],
      "source": [
        "df.plot.scatter(x = 'xG', y = 'pts', c = 'red');"
      ],
      "id": "34ae1309"
    },
    {
      "cell_type": "markdown",
      "metadata": {
        "id": "f94ad34a"
      },
      "source": [
        "Teams with high expected goals gets more points"
      ],
      "id": "f94ad34a"
    },
    {
      "cell_type": "code",
      "execution_count": 30,
      "metadata": {
        "id": "44039822",
        "outputId": "51f7ed10-811e-4f09-d0c3-6ffb826cc451",
        "scrolled": true,
        "colab": {
          "base_uri": "https://localhost:8080/",
          "height": 279
        }
      },
      "outputs": [
        {
          "output_type": "display_data",
          "data": {
            "text/plain": [
              "<Figure size 432x288 with 1 Axes>"
            ],
            "image/png": "[encoded data removed]"
          },
          "metadata": {
            "needs_background": "light"
          }
        }
      ],
      "source": [
        "df.plot.scatter(x = 'deep', y = 'pts', c = 'blue');"
      ],
      "id": "44039822"
    },
    {
      "cell_type": "markdown",
      "metadata": {
        "id": "847a4e13"
      },
      "source": [
        "The higher the passes completed within an estimated 20 yards of goal by a team, the higher the points.  "
      ],
      "id": "847a4e13"
    },
    {
      "cell_type": "code",
      "execution_count": 31,
      "metadata": {
        "id": "01c7ebda",
        "outputId": "d459c74c-cd7c-484a-fc1f-90d58ed1fb6a",
        "scrolled": true,
        "colab": {
          "base_uri": "https://localhost:8080/",
          "height": 280
        }
      },
      "outputs": [
        {
          "output_type": "display_data",
          "data": {
            "text/plain": [
              "<Figure size 432x288 with 1 Axes>"
            ],
            "image/png": "[encoded data removed]"
          },
          "metadata": {
            "needs_background": "light"
          }
        }
      ],
      "source": [
        "df.plot.scatter(x = 'oppda_coef', y = 'pts', c = 'blue');"
      ],
      "id": "01c7ebda"
    },
    {
      "cell_type": "markdown",
      "metadata": {
        "id": "0d00e39f"
      },
      "source": [
        "The higher the defensive action, the higher the points"
      ],
      "id": "0d00e39f"
    },
    {
      "cell_type": "code",
      "execution_count": 32,
      "metadata": {
        "id": "1a0557b8",
        "outputId": "50229a70-543d-4ba8-e9a9-ee400cfaa414",
        "colab": {
          "base_uri": "https://localhost:8080/"
        }
      },
      "outputs": [
        {
          "output_type": "execute_result",
          "data": {
            "text/plain": [
              "array(['Barcelona', 'Real Madrid', 'Chelsea', 'Leicester',\n",
              "       'Manchester City', 'Liverpool', 'Bayern Munich', 'Juventus',\n",
              "       'Paris Saint Germain', 'Monaco', 'Zenit St. Petersburg',\n",
              "       'CSKA Moscow', 'Spartak Moscow', 'Lokomotiv Moscow'], dtype=object)"
            ]
          },
          "metadata": {},
          "execution_count": 32
        }
      ],
      "source": [
        "winning_team_df = df[df['position'] == 1]\n",
        "winning_team_df['team'].unique()"
      ],
      "id": "1a0557b8"
    },
    {
      "cell_type": "code",
      "execution_count": 33,
      "metadata": {
        "id": "ebf8aa62",
        "outputId": "9c0400c1-bc32-4944-9807-58d156dfb6d5",
        "colab": {
          "base_uri": "https://localhost:8080/",
          "height": 803
        }
      },
      "outputs": [
        {
          "output_type": "execute_result",
          "data": {
            "text/plain": [
              "                    year  position   matches      wins     draws     loses  \\\n",
              "year            1.000000       NaN -0.132598  0.030959 -0.274229  0.079517   \n",
              "position             NaN       NaN       NaN       NaN       NaN       NaN   \n",
              "matches        -0.132598       NaN  1.000000  0.799130  0.267892 -0.163268   \n",
              "wins            0.030959       NaN  0.799130  1.000000 -0.269881 -0.244914   \n",
              "draws          -0.274229       NaN  0.267892 -0.269881  1.000000 -0.402840   \n",
              "loses           0.079517       NaN -0.163268 -0.244914 -0.402840  1.000000   \n",
              "scored          0.021061       NaN  0.617638  0.777012 -0.135997 -0.333468   \n",
              "missed          0.283024       NaN  0.417252  0.158025  0.226251  0.207701   \n",
              "pts            -0.030581       NaN  0.890075  0.975472 -0.051305 -0.346109   \n",
              "xG              0.108718       NaN  0.525873  0.626829 -0.062016 -0.286191   \n",
              "xG_diff         0.191105       NaN -0.281293 -0.430673  0.180817  0.146860   \n",
              "npxG            0.121191       NaN  0.496419  0.636108 -0.112594 -0.294077   \n",
              "xGA             0.333738       NaN  0.498599  0.233566  0.358871 -0.037424   \n",
              "xGA_diff        0.095212       NaN  0.150503  0.125897  0.217932 -0.364991   \n",
              "npxGA           0.312307       NaN  0.494176  0.254732  0.378913 -0.143845   \n",
              "npxGD          -0.001979       NaN  0.317593  0.563986 -0.275727 -0.249914   \n",
              "passes_allowed  0.316179       NaN  0.134827 -0.031090  0.186624  0.086732   \n",
              "oppda_coef      0.290565       NaN -0.005220  0.325478 -0.387311 -0.205124   \n",
              "deep            0.113729       NaN  0.337678  0.514005 -0.178809 -0.237975   \n",
              "deep_allowed    0.058917       NaN  0.301744 -0.051868  0.502079 -0.009282   \n",
              "xpts           -0.139355       NaN  0.735312  0.789969 -0.013565 -0.294687   \n",
              "xpts_diff      -0.186914       NaN -0.175127 -0.218800  0.058830  0.053288   \n",
              "\n",
              "                  scored    missed       pts        xG   xG_diff      npxG  \\\n",
              "year            0.021061  0.283024 -0.030581  0.108718  0.191105  0.121191   \n",
              "position             NaN       NaN       NaN       NaN       NaN       NaN   \n",
              "matches         0.617638  0.417252  0.890075  0.525873 -0.281293  0.496419   \n",
              "wins            0.777012  0.158025  0.975472  0.626829 -0.430673  0.636108   \n",
              "draws          -0.135997  0.226251 -0.051305 -0.062016  0.180817 -0.112594   \n",
              "loses          -0.333468  0.207701 -0.346109 -0.286191  0.146860 -0.294077   \n",
              "scored          1.000000  0.245640  0.774803  0.904807 -0.337427  0.901805   \n",
              "missed          0.245640  1.000000  0.215621  0.267640  0.017442  0.238320   \n",
              "pts             0.774803  0.215621  1.000000  0.635951 -0.405345  0.634012   \n",
              "xG              0.904807  0.267640  0.635951  1.000000  0.095542  0.988838   \n",
              "xG_diff        -0.337427  0.017442 -0.405345  0.095542  1.000000  0.077883   \n",
              "npxG            0.901805  0.238320  0.634012  0.988838  0.077883  1.000000   \n",
              "xGA             0.297589  0.781421  0.324288  0.324069  0.020749  0.286614   \n",
              "xGA_diff        0.094854 -0.276231  0.180397  0.103084  0.006148  0.088781   \n",
              "npxGA           0.320397  0.722334  0.350822  0.352100  0.029400  0.320999   \n",
              "npxGD           0.816456 -0.048773  0.521915  0.894927  0.069795  0.919580   \n",
              "passes_allowed -0.281558  0.351876  0.010418 -0.383672 -0.189986 -0.378515   \n",
              "oppda_coef      0.404889 -0.133867  0.249034  0.484614  0.124830  0.533101   \n",
              "deep            0.655828  0.017194  0.492233  0.744899  0.113624  0.777607   \n",
              "deep_allowed   -0.087961  0.509344  0.060983 -0.044708  0.106788 -0.089403   \n",
              "xpts            0.877005  0.131223  0.816231  0.879230 -0.106451  0.868699   \n",
              "xpts_diff       0.248195 -0.121745 -0.213484  0.473251  0.466006  0.458533   \n",
              "\n",
              "                     xGA  xGA_diff     npxGA     npxGD  passes_allowed  \\\n",
              "year            0.333738  0.095212  0.312307 -0.001979        0.316179   \n",
              "position             NaN       NaN       NaN       NaN             NaN   \n",
              "matches         0.498599  0.150503  0.494176  0.317593        0.134827   \n",
              "wins            0.233566  0.125897  0.254732  0.563986       -0.031090   \n",
              "draws           0.358871  0.217932  0.378913 -0.275727        0.186624   \n",
              "loses          -0.037424 -0.364991 -0.143845 -0.249914        0.086732   \n",
              "scored          0.297589  0.094854  0.320397  0.816456       -0.281558   \n",
              "missed          0.781421 -0.276231  0.722334 -0.048773        0.351876   \n",
              "pts             0.324288  0.180397  0.350822  0.521915        0.010418   \n",
              "xG              0.324069  0.103084  0.352100  0.894927       -0.383672   \n",
              "xG_diff         0.020749  0.006148  0.029400  0.069795       -0.189986   \n",
              "npxG            0.286614  0.088781  0.320999  0.919580       -0.378515   \n",
              "xGA             1.000000  0.383872  0.970232 -0.100775        0.296509   \n",
              "xGA_diff        0.383872  1.000000  0.425459 -0.083040       -0.064014   \n",
              "npxGA           0.970232  0.425459  1.000000 -0.076924        0.282095   \n",
              "npxGD          -0.100775 -0.083040 -0.076924  1.000000       -0.515510   \n",
              "passes_allowed  0.296509 -0.064014  0.282095 -0.515510        1.000000   \n",
              "oppda_coef     -0.203168 -0.114825 -0.191786  0.640785       -0.452390   \n",
              "deep            0.106870  0.139158  0.164484  0.750388       -0.336312   \n",
              "deep_allowed    0.717844  0.351908  0.711652 -0.389352        0.485586   \n",
              "xpts            0.116637 -0.014536  0.150485  0.852092       -0.300337   \n",
              "xpts_diff      -0.319597 -0.312088 -0.304649  0.609105       -0.524479   \n",
              "\n",
              "                oppda_coef      deep  deep_allowed      xpts  xpts_diff  \n",
              "year              0.290565  0.113729      0.058917 -0.139355  -0.186914  \n",
              "position               NaN       NaN           NaN       NaN        NaN  \n",
              "matches          -0.005220  0.337678      0.301744  0.735312  -0.175127  \n",
              "wins              0.325478  0.514005     -0.051868  0.789969  -0.218800  \n",
              "draws            -0.387311 -0.178809      0.502079 -0.013565   0.058830  \n",
              "loses            -0.205124 -0.237975     -0.009282 -0.294687   0.053288  \n",
              "scored            0.404889  0.655828     -0.087961  0.877005   0.248195  \n",
              "missed           -0.133867  0.017194      0.509344  0.131223  -0.121745  \n",
              "pts               0.249034  0.492233      0.060983  0.816231  -0.213484  \n",
              "xG                0.484614  0.744899     -0.044708  0.879230   0.473251  \n",
              "xG_diff           0.124830  0.113624      0.106788 -0.106451   0.466006  \n",
              "npxG              0.533101  0.777607     -0.089403  0.868699   0.458533  \n",
              "xGA              -0.203168  0.106870      0.717844  0.116637  -0.319597  \n",
              "xGA_diff         -0.114825  0.139158      0.351908 -0.014536  -0.312088  \n",
              "npxGA            -0.191786  0.164484      0.711652  0.150485  -0.304649  \n",
              "npxGD             0.640785  0.750388     -0.389352  0.852092   0.609105  \n",
              "passes_allowed   -0.452390 -0.336312      0.485586 -0.300337  -0.524479  \n",
              "oppda_coef        1.000000  0.585757     -0.498008  0.401921   0.282760  \n",
              "deep              0.585757  1.000000     -0.121605  0.657959   0.328126  \n",
              "deep_allowed     -0.498008 -0.121605      1.000000 -0.140480  -0.334747  \n",
              "xpts              0.401921  0.657959     -0.140480  1.000000   0.390156  \n",
              "xpts_diff         0.282760  0.328126     -0.334747  0.390156   1.000000  "
            ],
            "text/html": [
              "\n",
              "  <div id=\"df-e7612068-45b1-4b04-8b94-1d544b149ef5\">\n",
              "    <div class=\"colab-df-container\">\n",
              "      <div>\n",
              "<style scoped>\n",
              "    .dataframe tbody tr th:only-of-type {\n",
              "        vertical-align: middle;\n",
              "    }\n",
              "\n",
              "    .dataframe tbody tr th {\n",
              "        vertical-align: top;\n",
              "    }\n",
              "\n",
              "    .dataframe thead th {\n",
              "        text-align: right;\n",
              "    }\n",
              "</style>\n",
              "<table border=\"1\" class=\"dataframe\">\n",
              "  <thead>\n",
              "    <tr style=\"text-align: right;\">\n",
              "      <th></th>\n",
              "      <th>year</th>\n",
              "      <th>position</th>\n",
              "      <th>matches</th>\n",
              "      <th>wins</th>\n",
              "      <th>draws</th>\n",
              "      <th>loses</th>\n",
              "      <th>scored</th>\n",
              "      <th>missed</th>\n",
              "      <th>pts</th>\n",
              "      <th>xG</th>\n",
              "      <th>xG_diff</th>\n",
              "      <th>npxG</th>\n",
              "      <th>xGA</th>\n",
              "      <th>xGA_diff</th>\n",
              "      <th>npxGA</th>\n",
              "      <th>npxGD</th>\n",
              "      <th>passes_allowed</th>\n",
              "      <th>oppda_coef</th>\n",
              "      <th>deep</th>\n",
              "      <th>deep_allowed</th>\n",
              "      <th>xpts</th>\n",
              "      <th>xpts_diff</th>\n",
              "    </tr>\n",
              "  </thead>\n",
              "  <tbody>\n",
              "    <tr>\n",
              "      <th>year</th>\n",
              "      <td>1.000000</td>\n",
              "      <td>NaN</td>\n",
              "      <td>-0.132598</td>\n",
              "      <td>0.030959</td>\n",
              "      <td>-0.274229</td>\n",
              "      <td>0.079517</td>\n",
              "      <td>0.021061</td>\n",
              "      <td>0.283024</td>\n",
              "      <td>-0.030581</td>\n",
              "      <td>0.108718</td>\n",
              "      <td>0.191105</td>\n",
              "      <td>0.121191</td>\n",
              "      <td>0.333738</td>\n",
              "      <td>0.095212</td>\n",
              "      <td>0.312307</td>\n",
              "      <td>-0.001979</td>\n",
              "      <td>0.316179</td>\n",
              "      <td>0.290565</td>\n",
              "      <td>0.113729</td>\n",
              "      <td>0.058917</td>\n",
              "      <td>-0.139355</td>\n",
              "      <td>-0.186914</td>\n",
              "    </tr>\n",
              "    <tr>\n",
              "      <th>position</th>\n",
              "      <td>NaN</td>\n",
              "      <td>NaN</td>\n",
              "      <td>NaN</td>\n",
              "      <td>NaN</td>\n",
              "      <td>NaN</td>\n",
              "      <td>NaN</td>\n",
              "      <td>NaN</td>\n",
              "      <td>NaN</td>\n",
              "      <td>NaN</td>\n",
              "      <td>NaN</td>\n",
              "      <td>NaN</td>\n",
              "      <td>NaN</td>\n",
              "      <td>NaN</td>\n",
              "      <td>NaN</td>\n",
              "      <td>NaN</td>\n",
              "      <td>NaN</td>\n",
              "      <td>NaN</td>\n",
              "      <td>NaN</td>\n",
              "      <td>NaN</td>\n",
              "      <td>NaN</td>\n",
              "      <td>NaN</td>\n",
              "      <td>NaN</td>\n",
              "    </tr>\n",
              "    <tr>\n",
              "      <th>matches</th>\n",
              "      <td>-0.132598</td>\n",
              "      <td>NaN</td>\n",
              "      <td>1.000000</td>\n",
              "      <td>0.799130</td>\n",
              "      <td>0.267892</td>\n",
              "      <td>-0.163268</td>\n",
              "      <td>0.617638</td>\n",
              "      <td>0.417252</td>\n",
              "      <td>0.890075</td>\n",
              "      <td>0.525873</td>\n",
              "      <td>-0.281293</td>\n",
              "      <td>0.496419</td>\n",
              "      <td>0.498599</td>\n",
              "      <td>0.150503</td>\n",
              "      <td>0.494176</td>\n",
              "      <td>0.317593</td>\n",
              "      <td>0.134827</td>\n",
              "      <td>-0.005220</td>\n",
              "      <td>0.337678</td>\n",
              "      <td>0.301744</td>\n",
              "      <td>0.735312</td>\n",
              "      <td>-0.175127</td>\n",
              "    </tr>\n",
              "    <tr>\n",
              "      <th>wins</th>\n",
              "      <td>0.030959</td>\n",
              "      <td>NaN</td>\n",
              "      <td>0.799130</td>\n",
              "      <td>1.000000</td>\n",
              "      <td>-0.269881</td>\n",
              "      <td>-0.244914</td>\n",
              "      <td>0.777012</td>\n",
              "      <td>0.158025</td>\n",
              "      <td>0.975472</td>\n",
              "      <td>0.626829</td>\n",
              "      <td>-0.430673</td>\n",
              "      <td>0.636108</td>\n",
              "      <td>0.233566</td>\n",
              "      <td>0.125897</td>\n",
              "      <td>0.254732</td>\n",
              "      <td>0.563986</td>\n",
              "      <td>-0.031090</td>\n",
              "      <td>0.325478</td>\n",
              "      <td>0.514005</td>\n",
              "      <td>-0.051868</td>\n",
              "      <td>0.789969</td>\n",
              "      <td>-0.218800</td>\n",
              "    </tr>\n",
              "    <tr>\n",
              "      <th>draws</th>\n",
              "      <td>-0.274229</td>\n",
              "      <td>NaN</td>\n",
              "      <td>0.267892</td>\n",
              "      <td>-0.269881</td>\n",
              "      <td>1.000000</td>\n",
              "      <td>-0.402840</td>\n",
              "      <td>-0.135997</td>\n",
              "      <td>0.226251</td>\n",
              "      <td>-0.051305</td>\n",
              "      <td>-0.062016</td>\n",
              "      <td>0.180817</td>\n",
              "      <td>-0.112594</td>\n",
              "      <td>0.358871</td>\n",
              "      <td>0.217932</td>\n",
              "      <td>0.378913</td>\n",
              "      <td>-0.275727</td>\n",
              "      <td>0.186624</td>\n",
              "      <td>-0.387311</td>\n",
              "      <td>-0.178809</td>\n",
              "      <td>0.502079</td>\n",
              "      <td>-0.013565</td>\n",
              "      <td>0.058830</td>\n",
              "    </tr>\n",
              "    <tr>\n",
              "      <th>loses</th>\n",
              "      <td>0.079517</td>\n",
              "      <td>NaN</td>\n",
              "      <td>-0.163268</td>\n",
              "      <td>-0.244914</td>\n",
              "      <td>-0.402840</td>\n",
              "      <td>1.000000</td>\n",
              "      <td>-0.333468</td>\n",
              "      <td>0.207701</td>\n",
              "      <td>-0.346109</td>\n",
              "      <td>-0.286191</td>\n",
              "      <td>0.146860</td>\n",
              "      <td>-0.294077</td>\n",
              "      <td>-0.037424</td>\n",
              "      <td>-0.364991</td>\n",
              "      <td>-0.143845</td>\n",
              "      <td>-0.249914</td>\n",
              "      <td>0.086732</td>\n",
              "      <td>-0.205124</td>\n",
              "      <td>-0.237975</td>\n",
              "      <td>-0.009282</td>\n",
              "      <td>-0.294687</td>\n",
              "      <td>0.053288</td>\n",
              "    </tr>\n",
              "    <tr>\n",
              "      <th>scored</th>\n",
              "      <td>0.021061</td>\n",
              "      <td>NaN</td>\n",
              "      <td>0.617638</td>\n",
              "      <td>0.777012</td>\n",
              "      <td>-0.135997</td>\n",
              "      <td>-0.333468</td>\n",
              "      <td>1.000000</td>\n",
              "      <td>0.245640</td>\n",
              "      <td>0.774803</td>\n",
              "      <td>0.904807</td>\n",
              "      <td>-0.337427</td>\n",
              "      <td>0.901805</td>\n",
              "      <td>0.297589</td>\n",
              "      <td>0.094854</td>\n",
              "      <td>0.320397</td>\n",
              "      <td>0.816456</td>\n",
              "      <td>-0.281558</td>\n",
              "      <td>0.404889</td>\n",
              "      <td>0.655828</td>\n",
              "      <td>-0.087961</td>\n",
              "      <td>0.877005</td>\n",
              "      <td>0.248195</td>\n",
              "    </tr>\n",
              "    <tr>\n",
              "      <th>missed</th>\n",
              "      <td>0.283024</td>\n",
              "      <td>NaN</td>\n",
              "      <td>0.417252</td>\n",
              "      <td>0.158025</td>\n",
              "      <td>0.226251</td>\n",
              "      <td>0.207701</td>\n",
              "      <td>0.245640</td>\n",
              "      <td>1.000000</td>\n",
              "      <td>0.215621</td>\n",
              "      <td>0.267640</td>\n",
              "      <td>0.017442</td>\n",
              "      <td>0.238320</td>\n",
              "      <td>0.781421</td>\n",
              "      <td>-0.276231</td>\n",
              "      <td>0.722334</td>\n",
              "      <td>-0.048773</td>\n",
              "      <td>0.351876</td>\n",
              "      <td>-0.133867</td>\n",
              "      <td>0.017194</td>\n",
              "      <td>0.509344</td>\n",
              "      <td>0.131223</td>\n",
              "      <td>-0.121745</td>\n",
              "    </tr>\n",
              "    <tr>\n",
              "      <th>pts</th>\n",
              "      <td>-0.030581</td>\n",
              "      <td>NaN</td>\n",
              "      <td>0.890075</td>\n",
              "      <td>0.975472</td>\n",
              "      <td>-0.051305</td>\n",
              "      <td>-0.346109</td>\n",
              "      <td>0.774803</td>\n",
              "      <td>0.215621</td>\n",
              "      <td>1.000000</td>\n",
              "      <td>0.635951</td>\n",
              "      <td>-0.405345</td>\n",
              "      <td>0.634012</td>\n",
              "      <td>0.324288</td>\n",
              "      <td>0.180397</td>\n",
              "      <td>0.350822</td>\n",
              "      <td>0.521915</td>\n",
              "      <td>0.010418</td>\n",
              "      <td>0.249034</td>\n",
              "      <td>0.492233</td>\n",
              "      <td>0.060983</td>\n",
              "      <td>0.816231</td>\n",
              "      <td>-0.213484</td>\n",
              "    </tr>\n",
              "    <tr>\n",
              "      <th>xG</th>\n",
              "      <td>0.108718</td>\n",
              "      <td>NaN</td>\n",
              "      <td>0.525873</td>\n",
              "      <td>0.626829</td>\n",
              "      <td>-0.062016</td>\n",
              "      <td>-0.286191</td>\n",
              "      <td>0.904807</td>\n",
              "      <td>0.267640</td>\n",
              "      <td>0.635951</td>\n",
              "      <td>1.000000</td>\n",
              "      <td>0.095542</td>\n",
              "      <td>0.988838</td>\n",
              "      <td>0.324069</td>\n",
              "      <td>0.103084</td>\n",
              "      <td>0.352100</td>\n",
              "      <td>0.894927</td>\n",
              "      <td>-0.383672</td>\n",
              "      <td>0.484614</td>\n",
              "      <td>0.744899</td>\n",
              "      <td>-0.044708</td>\n",
              "      <td>0.879230</td>\n",
              "      <td>0.473251</td>\n",
              "    </tr>\n",
              "    <tr>\n",
              "      <th>xG_diff</th>\n",
              "      <td>0.191105</td>\n",
              "      <td>NaN</td>\n",
              "      <td>-0.281293</td>\n",
              "      <td>-0.430673</td>\n",
              "      <td>0.180817</td>\n",
              "      <td>0.146860</td>\n",
              "      <td>-0.337427</td>\n",
              "      <td>0.017442</td>\n",
              "      <td>-0.405345</td>\n",
              "      <td>0.095542</td>\n",
              "      <td>1.000000</td>\n",
              "      <td>0.077883</td>\n",
              "      <td>0.020749</td>\n",
              "      <td>0.006148</td>\n",
              "      <td>0.029400</td>\n",
              "      <td>0.069795</td>\n",
              "      <td>-0.189986</td>\n",
              "      <td>0.124830</td>\n",
              "      <td>0.113624</td>\n",
              "      <td>0.106788</td>\n",
              "      <td>-0.106451</td>\n",
              "      <td>0.466006</td>\n",
              "    </tr>\n",
              "    <tr>\n",
              "      <th>npxG</th>\n",
              "      <td>0.121191</td>\n",
              "      <td>NaN</td>\n",
              "      <td>0.496419</td>\n",
              "      <td>0.636108</td>\n",
              "      <td>-0.112594</td>\n",
              "      <td>-0.294077</td>\n",
              "      <td>0.901805</td>\n",
              "      <td>0.238320</td>\n",
              "      <td>0.634012</td>\n",
              "      <td>0.988838</td>\n",
              "      <td>0.077883</td>\n",
              "      <td>1.000000</td>\n",
              "      <td>0.286614</td>\n",
              "      <td>0.088781</td>\n",
              "      <td>0.320999</td>\n",
              "      <td>0.919580</td>\n",
              "      <td>-0.378515</td>\n",
              "      <td>0.533101</td>\n",
              "      <td>0.777607</td>\n",
              "      <td>-0.089403</td>\n",
              "      <td>0.868699</td>\n",
              "      <td>0.458533</td>\n",
              "    </tr>\n",
              "    <tr>\n",
              "      <th>xGA</th>\n",
              "      <td>0.333738</td>\n",
              "      <td>NaN</td>\n",
              "      <td>0.498599</td>\n",
              "      <td>0.233566</td>\n",
              "      <td>0.358871</td>\n",
              "      <td>-0.037424</td>\n",
              "      <td>0.297589</td>\n",
              "      <td>0.781421</td>\n",
              "      <td>0.324288</td>\n",
              "      <td>0.324069</td>\n",
              "      <td>0.020749</td>\n",
              "      <td>0.286614</td>\n",
              "      <td>1.000000</td>\n",
              "      <td>0.383872</td>\n",
              "      <td>0.970232</td>\n",
              "      <td>-0.100775</td>\n",
              "      <td>0.296509</td>\n",
              "      <td>-0.203168</td>\n",
              "      <td>0.106870</td>\n",
              "      <td>0.717844</td>\n",
              "      <td>0.116637</td>\n",
              "      <td>-0.319597</td>\n",
              "    </tr>\n",
              "    <tr>\n",
              "      <th>xGA_diff</th>\n",
              "      <td>0.095212</td>\n",
              "      <td>NaN</td>\n",
              "      <td>0.150503</td>\n",
              "      <td>0.125897</td>\n",
              "      <td>0.217932</td>\n",
              "      <td>-0.364991</td>\n",
              "      <td>0.094854</td>\n",
              "      <td>-0.276231</td>\n",
              "      <td>0.180397</td>\n",
              "      <td>0.103084</td>\n",
              "      <td>0.006148</td>\n",
              "      <td>0.088781</td>\n",
              "      <td>0.383872</td>\n",
              "      <td>1.000000</td>\n",
              "      <td>0.425459</td>\n",
              "      <td>-0.083040</td>\n",
              "      <td>-0.064014</td>\n",
              "      <td>-0.114825</td>\n",
              "      <td>0.139158</td>\n",
              "      <td>0.351908</td>\n",
              "      <td>-0.014536</td>\n",
              "      <td>-0.312088</td>\n",
              "    </tr>\n",
              "    <tr>\n",
              "      <th>npxGA</th>\n",
              "      <td>0.312307</td>\n",
              "      <td>NaN</td>\n",
              "      <td>0.494176</td>\n",
              "      <td>0.254732</td>\n",
              "      <td>0.378913</td>\n",
              "      <td>-0.143845</td>\n",
              "      <td>0.320397</td>\n",
              "      <td>0.722334</td>\n",
              "      <td>0.350822</td>\n",
              "      <td>0.352100</td>\n",
              "      <td>0.029400</td>\n",
              "      <td>0.320999</td>\n",
              "      <td>0.970232</td>\n",
              "      <td>0.425459</td>\n",
              "      <td>1.000000</td>\n",
              "      <td>-0.076924</td>\n",
              "      <td>0.282095</td>\n",
              "      <td>-0.191786</td>\n",
              "      <td>0.164484</td>\n",
              "      <td>0.711652</td>\n",
              "      <td>0.150485</td>\n",
              "      <td>-0.304649</td>\n",
              "    </tr>\n",
              "    <tr>\n",
              "      <th>npxGD</th>\n",
              "      <td>-0.001979</td>\n",
              "      <td>NaN</td>\n",
              "      <td>0.317593</td>\n",
              "      <td>0.563986</td>\n",
              "      <td>-0.275727</td>\n",
              "      <td>-0.249914</td>\n",
              "      <td>0.816456</td>\n",
              "      <td>-0.048773</td>\n",
              "      <td>0.521915</td>\n",
              "      <td>0.894927</td>\n",
              "      <td>0.069795</td>\n",
              "      <td>0.919580</td>\n",
              "      <td>-0.100775</td>\n",
              "      <td>-0.083040</td>\n",
              "      <td>-0.076924</td>\n",
              "      <td>1.000000</td>\n",
              "      <td>-0.515510</td>\n",
              "      <td>0.640785</td>\n",
              "      <td>0.750388</td>\n",
              "      <td>-0.389352</td>\n",
              "      <td>0.852092</td>\n",
              "      <td>0.609105</td>\n",
              "    </tr>\n",
              "    <tr>\n",
              "      <th>passes_allowed</th>\n",
              "      <td>0.316179</td>\n",
              "      <td>NaN</td>\n",
              "      <td>0.134827</td>\n",
              "      <td>-0.031090</td>\n",
              "      <td>0.186624</td>\n",
              "      <td>0.086732</td>\n",
              "      <td>-0.281558</td>\n",
              "      <td>0.351876</td>\n",
              "      <td>0.010418</td>\n",
              "      <td>-0.383672</td>\n",
              "      <td>-0.189986</td>\n",
              "      <td>-0.378515</td>\n",
              "      <td>0.296509</td>\n",
              "      <td>-0.064014</td>\n",
              "      <td>0.282095</td>\n",
              "      <td>-0.515510</td>\n",
              "      <td>1.000000</td>\n",
              "      <td>-0.452390</td>\n",
              "      <td>-0.336312</td>\n",
              "      <td>0.485586</td>\n",
              "      <td>-0.300337</td>\n",
              "      <td>-0.524479</td>\n",
              "    </tr>\n",
              "    <tr>\n",
              "      <th>oppda_coef</th>\n",
              "      <td>0.290565</td>\n",
              "      <td>NaN</td>\n",
              "      <td>-0.005220</td>\n",
              "      <td>0.325478</td>\n",
              "      <td>-0.387311</td>\n",
              "      <td>-0.205124</td>\n",
              "      <td>0.404889</td>\n",
              "      <td>-0.133867</td>\n",
              "      <td>0.249034</td>\n",
              "      <td>0.484614</td>\n",
              "      <td>0.124830</td>\n",
              "      <td>0.533101</td>\n",
              "      <td>-0.203168</td>\n",
              "      <td>-0.114825</td>\n",
              "      <td>-0.191786</td>\n",
              "      <td>0.640785</td>\n",
              "      <td>-0.452390</td>\n",
              "      <td>1.000000</td>\n",
              "      <td>0.585757</td>\n",
              "      <td>-0.498008</td>\n",
              "      <td>0.401921</td>\n",
              "      <td>0.282760</td>\n",
              "    </tr>\n",
              "    <tr>\n",
              "      <th>deep</th>\n",
              "      <td>0.113729</td>\n",
              "      <td>NaN</td>\n",
              "      <td>0.337678</td>\n",
              "      <td>0.514005</td>\n",
              "      <td>-0.178809</td>\n",
              "      <td>-0.237975</td>\n",
              "      <td>0.655828</td>\n",
              "      <td>0.017194</td>\n",
              "      <td>0.492233</td>\n",
              "      <td>0.744899</td>\n",
              "      <td>0.113624</td>\n",
              "      <td>0.777607</td>\n",
              "      <td>0.106870</td>\n",
              "      <td>0.139158</td>\n",
              "      <td>0.164484</td>\n",
              "      <td>0.750388</td>\n",
              "      <td>-0.336312</td>\n",
              "      <td>0.585757</td>\n",
              "      <td>1.000000</td>\n",
              "      <td>-0.121605</td>\n",
              "      <td>0.657959</td>\n",
              "      <td>0.328126</td>\n",
              "    </tr>\n",
              "    <tr>\n",
              "      <th>deep_allowed</th>\n",
              "      <td>0.058917</td>\n",
              "      <td>NaN</td>\n",
              "      <td>0.301744</td>\n",
              "      <td>-0.051868</td>\n",
              "      <td>0.502079</td>\n",
              "      <td>-0.009282</td>\n",
              "      <td>-0.087961</td>\n",
              "      <td>0.509344</td>\n",
              "      <td>0.060983</td>\n",
              "      <td>-0.044708</td>\n",
              "      <td>0.106788</td>\n",
              "      <td>-0.089403</td>\n",
              "      <td>0.717844</td>\n",
              "      <td>0.351908</td>\n",
              "      <td>0.711652</td>\n",
              "      <td>-0.389352</td>\n",
              "      <td>0.485586</td>\n",
              "      <td>-0.498008</td>\n",
              "      <td>-0.121605</td>\n",
              "      <td>1.000000</td>\n",
              "      <td>-0.140480</td>\n",
              "      <td>-0.334747</td>\n",
              "    </tr>\n",
              "    <tr>\n",
              "      <th>xpts</th>\n",
              "      <td>-0.139355</td>\n",
              "      <td>NaN</td>\n",
              "      <td>0.735312</td>\n",
              "      <td>0.789969</td>\n",
              "      <td>-0.013565</td>\n",
              "      <td>-0.294687</td>\n",
              "      <td>0.877005</td>\n",
              "      <td>0.131223</td>\n",
              "      <td>0.816231</td>\n",
              "      <td>0.879230</td>\n",
              "      <td>-0.106451</td>\n",
              "      <td>0.868699</td>\n",
              "      <td>0.116637</td>\n",
              "      <td>-0.014536</td>\n",
              "      <td>0.150485</td>\n",
              "      <td>0.852092</td>\n",
              "      <td>-0.300337</td>\n",
              "      <td>0.401921</td>\n",
              "      <td>0.657959</td>\n",
              "      <td>-0.140480</td>\n",
              "      <td>1.000000</td>\n",
              "      <td>0.390156</td>\n",
              "    </tr>\n",
              "    <tr>\n",
              "      <th>xpts_diff</th>\n",
              "      <td>-0.186914</td>\n",
              "      <td>NaN</td>\n",
              "      <td>-0.175127</td>\n",
              "      <td>-0.218800</td>\n",
              "      <td>0.058830</td>\n",
              "      <td>0.053288</td>\n",
              "      <td>0.248195</td>\n",
              "      <td>-0.121745</td>\n",
              "      <td>-0.213484</td>\n",
              "      <td>0.473251</td>\n",
              "      <td>0.466006</td>\n",
              "      <td>0.458533</td>\n",
              "      <td>-0.319597</td>\n",
              "      <td>-0.312088</td>\n",
              "      <td>-0.304649</td>\n",
              "      <td>0.609105</td>\n",
              "      <td>-0.524479</td>\n",
              "      <td>0.282760</td>\n",
              "      <td>0.328126</td>\n",
              "      <td>-0.334747</td>\n",
              "      <td>0.390156</td>\n",
              "      <td>1.000000</td>\n",
              "    </tr>\n",
              "  </tbody>\n",
              "</table>\n",
              "</div>\n",
              "      <button class=\"colab-df-convert\" onclick=\"convertToInteractive('df-e7612068-45b1-4b04-8b94-1d544b149ef5')\"\n",
              "              title=\"Convert this dataframe to an interactive table.\"\n",
              "              style=\"display:none;\">\n",
              "        \n",
              "  <svg xmlns=\"http://www.w3.org/2000/svg\" height=\"24px\"viewBox=\"0 0 24 24\"\n",
              "       width=\"24px\">\n",
              "    <path d=\"M0 0h24v24H0V0z\" fill=\"none\"/>\n",
              "    <path d=\"M18.56 5.44l.94 2.06.94-2.06 2.06-.94-2.06-.94-.94-2.06-.94 2.06-2.06.94zm-11 1L8.5 8.5l.94-2.06 2.06-.94-2.06-.94L8.5 2.5l-.94 2.06-2.06.94zm10 10l.94 2.06.94-2.06 2.06-.94-2.06-.94-.94-2.06-.94 2.06-2.06.94z\"/><path d=\"M17.41 7.96l-1.37-1.37c-.4-.4-.92-.59-1.43-.59-.52 0-1.04.2-1.43.59L10.3 9.45l-7.72 7.72c-.78.78-.78 2.05 0 2.83L4 21.41c.39.39.9.59 1.41.59.51 0 1.02-.2 1.41-.59l7.78-7.78 2.81-2.81c.8-.78.8-2.07 0-2.86zM5.41 20L4 18.59l7.72-7.72 1.47 1.35L5.41 20z\"/>\n",
              "  </svg>\n",
              "      </button>\n",
              "      \n",
              "  <style>\n",
              "    .colab-df-container {\n",
              "      display:flex;\n",
              "      flex-wrap:wrap;\n",
              "      gap: 12px;\n",
              "    }\n",
              "\n",
              "    .colab-df-convert {\n",
              "      background-color: #E8F0FE;\n",
              "      border: none;\n",
              "      border-radius: 50%;\n",
              "      cursor: pointer;\n",
              "      display: none;\n",
              "      fill: #1967D2;\n",
              "      height: 32px;\n",
              "      padding: 0 0 0 0;\n",
              "      width: 32px;\n",
              "    }\n",
              "\n",
              "    .colab-df-convert:hover {\n",
              "      background-color: #E2EBFA;\n",
              "      box-shadow: 0px 1px 2px rgba(60, 64, 67, 0.3), 0px 1px 3px 1px rgba(60, 64, 67, 0.15);\n",
              "      fill: #174EA6;\n",
              "    }\n",
              "\n",
              "    [theme=dark] .colab-df-convert {\n",
              "      background-color: #3B4455;\n",
              "      fill: #D2E3FC;\n",
              "    }\n",
              "\n",
              "    [theme=dark] .colab-df-convert:hover {\n",
              "      background-color: #434B5C;\n",
              "      box-shadow: 0px 1px 3px 1px rgba(0, 0, 0, 0.15);\n",
              "      filter: drop-shadow(0px 1px 2px rgba(0, 0, 0, 0.3));\n",
              "      fill: #FFFFFF;\n",
              "    }\n",
              "  </style>\n",
              "\n",
              "      <script>\n",
              "        const buttonEl =\n",
              "          document.querySelector('#df-e7612068-45b1-4b04-8b94-1d544b149ef5 button.colab-df-convert');\n",
              "        buttonEl.style.display =\n",
              "          google.colab.kernel.accessAllowed ? 'block' : 'none';\n",
              "\n",
              "        async function convertToInteractive(key) {\n",
              "          const element = document.querySelector('#df-e7612068-45b1-4b04-8b94-1d544b149ef5');\n",
              "          const dataTable =\n",
              "            await google.colab.kernel.invokeFunction('convertToInteractive',\n",
              "                                                     [key], {});\n",
              "          if (!dataTable) return;\n",
              "\n",
              "          const docLinkHtml = 'Like what you see? Visit the ' +\n",
              "            '<a target=\"_blank\" href=https://colab.research.google.com/notebooks/data_table.ipynb>data table notebook</a>'\n",
              "            + ' to learn more about interactive tables.';\n",
              "          element.innerHTML = '';\n",
              "          dataTable['output_type'] = 'display_data';\n",
              "          await google.colab.output.renderOutput(dataTable, element);\n",
              "          const docLink = document.createElement('div');\n",
              "          docLink.innerHTML = docLinkHtml;\n",
              "          element.appendChild(docLink);\n",
              "        }\n",
              "      </script>\n",
              "    </div>\n",
              "  </div>\n",
              "  "
            ]
          },
          "metadata": {},
          "execution_count": 33
        }
      ],
      "source": [
        "winning_team_df.corr()"
      ],
      "id": "ebf8aa62"
    },
    {
      "cell_type": "code",
      "execution_count": 34,
      "metadata": {
        "id": "7877ea02",
        "outputId": "f141ecc5-7c49-41f1-b129-1d080136f773",
        "colab": {
          "base_uri": "https://localhost:8080/",
          "height": 555
        }
      },
      "outputs": [
        {
          "output_type": "display_data",
          "data": {
            "text/plain": [
              "<Figure size 1080x576 with 2 Axes>"
            ],
            "image/png": "[encoded data removed]"
          },
          "metadata": {
            "needs_background": "light"
          }
        }
      ],
      "source": [
        "plt.figure(figsize = [15,8])\n",
        "\n",
        "sns.heatmap(winning_team_df.corr(), cmap = \"Blues\", annot = True, fmt =\".2f\", center = 0);\n",
        "plt.yticks(rotation = 0);"
      ],
      "id": "7877ea02"
    },
    {
      "cell_type": "code",
      "execution_count": 34,
      "metadata": {
        "id": "ec5fc403"
      },
      "outputs": [],
      "source": [
        ""
      ],
      "id": "ec5fc403"
    }
  ],
  "metadata": {
    "colab": {
      "name": "Exploratory_Data_Analysis.ipynb",
      "provenance": []
    },
    "kernelspec": {
      "display_name": "Python 3",
      "language": "python",
      "name": "python3"
    },
    "language_info": {
      "codemirror_mode": {
        "name": "ipython",
        "version": 3
      },
      "file_extension": ".py",
      "mimetype": "text/x-python",
      "name": "python",
      "nbconvert_exporter": "python",
      "pygments_lexer": "ipython3",
      "version": "3.8.8"
    },
    "widgets": {
      "application/vnd.jupyter.widget-state+json": {
        "7d5a6a1aff354d7a892e1f11a71fb630": {
          "model_module": "@jupyter-widgets/controls",
          "model_name": "HBoxModel",
          "model_module_version": "2.0.0",
          "state": {
            "_dom_classes": [],
            "_model_module": "@jupyter-widgets/controls",
            "_model_module_version": "2.0.0",
            "_model_name": "HBoxModel",
            "_view_count": null,
            "_view_module": "@jupyter-widgets/controls",
            "_view_module_version": "2.0.0",
            "_view_name": "HBoxView",
            "box_style": "",
            "children": [
              "IPY_MODEL_d806490c66464477bf3d85f196db8169",
              "IPY_MODEL_a3542c53abb440f089ea8f7f0e34eb7d",
              "IPY_MODEL_eae14944f1b44f6ea17396a5420d985c"
            ],
            "layout": "IPY_MODEL_b8c2b54e1ddb438eaf2825e32bcd9ee3",
            "tabbable": null,
            "tooltip": null
          }
        },
        "d806490c66464477bf3d85f196db8169": {
          "model_module": "@jupyter-widgets/controls",
          "model_name": "HTMLModel",
          "model_module_version": "2.0.0",
          "state": {
            "_dom_classes": [],
            "_model_module": "@jupyter-widgets/controls",
            "_model_module_version": "2.0.0",
            "_model_name": "HTMLModel",
            "_view_count": null,
            "_view_module": "@jupyter-widgets/controls",
            "_view_module_version": "2.0.0",
            "_view_name": "HTMLView",
            "description": "",
            "description_allow_html": false,
            "layout": "IPY_MODEL_93c6d0c61677496fa61990e6cac700dc",
            "placeholder": "​",
            "style": "IPY_MODEL_d770462878fe4c4186048f629b2c706a",
            "tabbable": null,
            "tooltip": null,
            "value": "Export report to file: 100%"
          }
        },
        "a3542c53abb440f089ea8f7f0e34eb7d": {
          "model_module": "@jupyter-widgets/controls",
          "model_name": "FloatProgressModel",
          "model_module_version": "2.0.0",
          "state": {
            "_dom_classes": [],
            "_model_module": "@jupyter-widgets/controls",
            "_model_module_version": "2.0.0",
            "_model_name": "FloatProgressModel",
            "_view_count": null,
            "_view_module": "@jupyter-widgets/controls",
            "_view_module_version": "2.0.0",
            "_view_name": "ProgressView",
            "bar_style": "success",
            "description": "",
            "description_allow_html": false,
            "layout": "IPY_MODEL_f75b42d316c246348d8c1cff65099ade",
            "max": 1,
            "min": 0,
            "orientation": "horizontal",
            "style": "IPY_MODEL_3cb34b9a842b474a8cb76e7f1cda93cc",
            "tabbable": null,
            "tooltip": null,
            "value": 1
          }
        },
        "eae14944f1b44f6ea17396a5420d985c": {
          "model_module": "@jupyter-widgets/controls",
          "model_name": "HTMLModel",
          "model_module_version": "2.0.0",
          "state": {
            "_dom_classes": [],
            "_model_module": "@jupyter-widgets/controls",
            "_model_module_version": "2.0.0",
            "_model_name": "HTMLModel",
            "_view_count": null,
            "_view_module": "@jupyter-widgets/controls",
            "_view_module_version": "2.0.0",
            "_view_name": "HTMLView",
            "description": "",
            "description_allow_html": false,
            "layout": "IPY_MODEL_409f652469b448ecae05f8302c7ceb89",
            "placeholder": "​",
            "style": "IPY_MODEL_10eb3876b17e40218cf7afbbf9dfd281",
            "tabbable": null,
            "tooltip": null,
            "value": " 1/1 [00:00&lt;00:00,  2.14it/s]"
          }
        },
        "b8c2b54e1ddb438eaf2825e32bcd9ee3": {
          "model_module": "@jupyter-widgets/base",
          "model_name": "LayoutModel",
          "model_module_version": "2.0.0",
          "state": {
            "_model_module": "@jupyter-widgets/base",
            "_model_module_version": "2.0.0",
            "_model_name": "LayoutModel",
            "_view_count": null,
            "_view_module": "@jupyter-widgets/base",
            "_view_module_version": "2.0.0",
            "_view_name": "LayoutView",
            "align_content": null,
            "align_items": null,
            "align_self": null,
            "border_bottom": null,
            "border_left": null,
            "border_right": null,
            "border_top": null,
            "bottom": null,
            "display": null,
            "flex": null,
            "flex_flow": null,
            "grid_area": null,
            "grid_auto_columns": null,
            "grid_auto_flow": null,
            "grid_auto_rows": null,
            "grid_column": null,
            "grid_gap": null,
            "grid_row": null,
            "grid_template_areas": null,
            "grid_template_columns": null,
            "grid_template_rows": null,
            "height": null,
            "justify_content": null,
            "justify_items": null,
            "left": null,
            "margin": null,
            "max_height": null,
            "max_width": null,
            "min_height": null,
            "min_width": null,
            "object_fit": null,
            "object_position": null,
            "order": null,
            "overflow": null,
            "padding": null,
            "right": null,
            "top": null,
            "visibility": null,
            "width": null
          }
        },
        "93c6d0c61677496fa61990e6cac700dc": {
          "model_module": "@jupyter-widgets/base",
          "model_name": "LayoutModel",
          "model_module_version": "2.0.0",
          "state": {
            "_model_module": "@jupyter-widgets/base",
            "_model_module_version": "2.0.0",
            "_model_name": "LayoutModel",
            "_view_count": null,
            "_view_module": "@jupyter-widgets/base",
            "_view_module_version": "2.0.0",
            "_view_name": "LayoutView",
            "align_content": null,
            "align_items": null,
            "align_self": null,
            "border_bottom": null,
            "border_left": null,
            "border_right": null,
            "border_top": null,
            "bottom": null,
            "display": null,
            "flex": null,
            "flex_flow": null,
            "grid_area": null,
            "grid_auto_columns": null,
            "grid_auto_flow": null,
            "grid_auto_rows": null,
            "grid_column": null,
            "grid_gap": null,
            "grid_row": null,
            "grid_template_areas": null,
            "grid_template_columns": null,
            "grid_template_rows": null,
            "height": null,
            "justify_content": null,
            "justify_items": null,
            "left": null,
            "margin": null,
            "max_height": null,
            "max_width": null,
            "min_height": null,
            "min_width": null,
            "object_fit": null,
            "object_position": null,
            "order": null,
            "overflow": null,
            "padding": null,
            "right": null,
            "top": null,
            "visibility": null,
            "width": null
          }
        },
        "d770462878fe4c4186048f629b2c706a": {
          "model_module": "@jupyter-widgets/controls",
          "model_name": "HTMLStyleModel",
          "model_module_version": "2.0.0",
          "state": {
            "_model_module": "@jupyter-widgets/controls",
            "_model_module_version": "2.0.0",
            "_model_name": "HTMLStyleModel",
            "_view_count": null,
            "_view_module": "@jupyter-widgets/base",
            "_view_module_version": "2.0.0",
            "_view_name": "StyleView",
            "background": null,
            "description_width": "",
            "font_size": null,
            "text_color": null
          }
        },
        "f75b42d316c246348d8c1cff65099ade": {
          "model_module": "@jupyter-widgets/base",
          "model_name": "LayoutModel",
          "model_module_version": "2.0.0",
          "state": {
            "_model_module": "@jupyter-widgets/base",
            "_model_module_version": "2.0.0",
            "_model_name": "LayoutModel",
            "_view_count": null,
            "_view_module": "@jupyter-widgets/base",
            "_view_module_version": "2.0.0",
            "_view_name": "LayoutView",
            "align_content": null,
            "align_items": null,
            "align_self": null,
            "border_bottom": null,
            "border_left": null,
            "border_right": null,
            "border_top": null,
            "bottom": null,
            "display": null,
            "flex": null,
            "flex_flow": null,
            "grid_area": null,
            "grid_auto_columns": null,
            "grid_auto_flow": null,
            "grid_auto_rows": null,
            "grid_column": null,
            "grid_gap": null,
            "grid_row": null,
            "grid_template_areas": null,
            "grid_template_columns": null,
            "grid_template_rows": null,
            "height": null,
            "justify_content": null,
            "justify_items": null,
            "left": null,
            "margin": null,
            "max_height": null,
            "max_width": null,
            "min_height": null,
            "min_width": null,
            "object_fit": null,
            "object_position": null,
            "order": null,
            "overflow": null,
            "padding": null,
            "right": null,
            "top": null,
            "visibility": null,
            "width": null
          }
        },
        "3cb34b9a842b474a8cb76e7f1cda93cc": {
          "model_module": "@jupyter-widgets/controls",
          "model_name": "ProgressStyleModel",
          "model_module_version": "2.0.0",
          "state": {
            "_model_module": "@jupyter-widgets/controls",
            "_model_module_version": "2.0.0",
            "_model_name": "ProgressStyleModel",
            "_view_count": null,
            "_view_module": "@jupyter-widgets/base",
            "_view_module_version": "2.0.0",
            "_view_name": "StyleView",
            "bar_color": null,
            "description_width": ""
          }
        },
        "409f652469b448ecae05f8302c7ceb89": {
          "model_module": "@jupyter-widgets/base",
          "model_name": "LayoutModel",
          "model_module_version": "2.0.0",
          "state": {
            "_model_module": "@jupyter-widgets/base",
            "_model_module_version": "2.0.0",
            "_model_name": "LayoutModel",
            "_view_count": null,
            "_view_module": "@jupyter-widgets/base",
            "_view_module_version": "2.0.0",
            "_view_name": "LayoutView",
            "align_content": null,
            "align_items": null,
            "align_self": null,
            "border_bottom": null,
            "border_left": null,
            "border_right": null,
            "border_top": null,
            "bottom": null,
            "display": null,
            "flex": null,
            "flex_flow": null,
            "grid_area": null,
            "grid_auto_columns": null,
            "grid_auto_flow": null,
            "grid_auto_rows": null,
            "grid_column": null,
            "grid_gap": null,
            "grid_row": null,
            "grid_template_areas": null,
            "grid_template_columns": null,
            "grid_template_rows": null,
            "height": null,
            "justify_content": null,
            "justify_items": null,
            "left": null,
            "margin": null,
            "max_height": null,
            "max_width": null,
            "min_height": null,
            "min_width": null,
            "object_fit": null,
            "object_position": null,
            "order": null,
            "overflow": null,
            "padding": null,
            "right": null,
            "top": null,
            "visibility": null,
            "width": null
          }
        },
        "10eb3876b17e40218cf7afbbf9dfd281": {
          "model_module": "@jupyter-widgets/controls",
          "model_name": "HTMLStyleModel",
          "model_module_version": "2.0.0",
          "state": {
            "_model_module": "@jupyter-widgets/controls",
            "_model_module_version": "2.0.0",
            "_model_name": "HTMLStyleModel",
            "_view_count": null,
            "_view_module": "@jupyter-widgets/base",
            "_view_module_version": "2.0.0",
            "_view_name": "StyleView",
            "background": null,
            "description_width": "",
            "font_size": null,
            "text_color": null
          }
        }
      }
    },
    "accelerator": "GPU",
    "gpuClass": "standard"
  },
  "nbformat": 4,
  "nbformat_minor": 5
}